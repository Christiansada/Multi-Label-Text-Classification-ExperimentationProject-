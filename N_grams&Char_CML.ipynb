{
 "cells": [
  {
   "cell_type": "code",
   "execution_count": null,
   "metadata": {
    "colab": {
     "base_uri": "https://localhost:8080/"
    },
    "id": "VnzZMFX2AgJv",
    "outputId": "923006cf-d5bd-4712-80d9-ae44eb5b07c3"
   },
   "outputs": [
    {
     "name": "stdout",
     "output_type": "stream",
     "text": [
      "Looking in indexes: https://pypi.org/simple, https://us-python.pkg.dev/colab-wheels/public/simple/\n",
      "Requirement already satisfied: scikit-multilearn==0.2.0 in /usr/local/lib/python3.9/dist-packages (0.2.0)\n"
     ]
    }
   ],
   "source": [
    "# Import required packages:\n",
    "import pandas as pd\n",
    "import matplotlib.pyplot as plt\n",
    "import seaborn as sns\n",
    "import nltk\n",
    "import re\n",
    "import string\n",
    "from collections import Counter\n",
    "from sklearn.model_selection import train_test_split\n",
    "from sklearn.feature_extraction.text import TfidfVectorizer\n",
    "from sklearn.feature_extraction.text import CountVectorizer\n",
    "from sklearn.metrics import accuracy_score\n",
    "from sklearn.multiclass import OneVsRestClassifier\n",
    "from sklearn.svm import LinearSVC\n",
    "from sklearn.linear_model import LogisticRegression\n",
    "from sklearn.ensemble import RandomForestClassifier\n",
    "from sklearn.ensemble import AdaBoostClassifier\n",
    "from sklearn.ensemble import BaggingClassifier\n",
    "from sklearn.pipeline import Pipeline\n",
    "from sklearn.preprocessing import MultiLabelBinarizer\n",
    "from sklearn.metrics import f1_score\n",
    "from sklearn.metrics import hamming_loss\n",
    "from sklearn.metrics import classification_report\n",
    "!pip install scikit-multilearn==0.2.0\n",
    "from skmultilearn.problem_transform import BinaryRelevance\n",
    "from sklearn.naive_bayes import MultinomialNB\n",
    "from skmultilearn.problem_transform import ClassifierChain\n",
    "from skmultilearn.problem_transform import LabelPowerset"
   ]
  },
  {
   "cell_type": "code",
   "execution_count": null,
   "metadata": {
    "id": "2XfQnfquA349"
   },
   "outputs": [],
   "source": [
    "df= pd.read_csv(\"/content/All_Corpora_normalized-2023.csv\") # read the dataframe"
   ]
  },
  {
   "cell_type": "code",
   "execution_count": null,
   "metadata": {
    "colab": {
     "base_uri": "https://localhost:8080/",
     "height": 206
    },
    "id": "RFrQdZr3BqXj",
    "outputId": "269b4ef2-4668-4bda-98d1-77fee3bb70b8"
   },
   "outputs": [
    {
     "data": {
      "text/html": [
       "\n",
       "  <div id=\"df-b289eb2b-cc3b-44f8-9720-a243ef5046ab\">\n",
       "    <div class=\"colab-df-container\">\n",
       "      <div>\n",
       "<style scoped>\n",
       "    .dataframe tbody tr th:only-of-type {\n",
       "        vertical-align: middle;\n",
       "    }\n",
       "\n",
       "    .dataframe tbody tr th {\n",
       "        vertical-align: top;\n",
       "    }\n",
       "\n",
       "    .dataframe thead th {\n",
       "        text-align: right;\n",
       "    }\n",
       "</style>\n",
       "<table border=\"1\" class=\"dataframe\">\n",
       "  <thead>\n",
       "    <tr style=\"text-align: right;\">\n",
       "      <th></th>\n",
       "      <th>content</th>\n",
       "      <th>Anger</th>\n",
       "      <th>Anticipation</th>\n",
       "      <th>Disgust</th>\n",
       "      <th>Fear</th>\n",
       "      <th>Joy</th>\n",
       "      <th>Love</th>\n",
       "      <th>Optimism</th>\n",
       "      <th>Pessimism</th>\n",
       "      <th>Sadness</th>\n",
       "      <th>Surprise</th>\n",
       "      <th>Trust</th>\n",
       "      <th>Neutral</th>\n",
       "    </tr>\n",
       "  </thead>\n",
       "  <tbody>\n",
       "    <tr>\n",
       "      <th>0</th>\n",
       "      <td>l2a ana msh gamed bs 3al a2al msh bad5ol abden...</td>\n",
       "      <td>1</td>\n",
       "      <td>0</td>\n",
       "      <td>1</td>\n",
       "      <td>0</td>\n",
       "      <td>0</td>\n",
       "      <td>0</td>\n",
       "      <td>0</td>\n",
       "      <td>0</td>\n",
       "      <td>0</td>\n",
       "      <td>0</td>\n",
       "      <td>0</td>\n",
       "      <td>0</td>\n",
       "    </tr>\n",
       "    <tr>\n",
       "      <th>1</th>\n",
       "      <td>fe ramadan msh baftar lama yekoun 3andi emteha...</td>\n",
       "      <td>0</td>\n",
       "      <td>1</td>\n",
       "      <td>0</td>\n",
       "      <td>0</td>\n",
       "      <td>0</td>\n",
       "      <td>0</td>\n",
       "      <td>0</td>\n",
       "      <td>0</td>\n",
       "      <td>1</td>\n",
       "      <td>0</td>\n",
       "      <td>0</td>\n",
       "      <td>0</td>\n",
       "    </tr>\n",
       "    <tr>\n",
       "      <th>2</th>\n",
       "      <td>ftark 3andi anhrda ashan anta sha2yan t3ala kol</td>\n",
       "      <td>0</td>\n",
       "      <td>0</td>\n",
       "      <td>0</td>\n",
       "      <td>0</td>\n",
       "      <td>1</td>\n",
       "      <td>1</td>\n",
       "      <td>0</td>\n",
       "      <td>0</td>\n",
       "      <td>0</td>\n",
       "      <td>0</td>\n",
       "      <td>0</td>\n",
       "      <td>0</td>\n",
       "    </tr>\n",
       "    <tr>\n",
       "      <th>3</th>\n",
       "      <td>da eli kont 3awza asafer feh aslun ashan 3ed m...</td>\n",
       "      <td>0</td>\n",
       "      <td>0</td>\n",
       "      <td>0</td>\n",
       "      <td>0</td>\n",
       "      <td>0</td>\n",
       "      <td>0</td>\n",
       "      <td>0</td>\n",
       "      <td>0</td>\n",
       "      <td>0</td>\n",
       "      <td>0</td>\n",
       "      <td>1</td>\n",
       "      <td>0</td>\n",
       "    </tr>\n",
       "    <tr>\n",
       "      <th>4</th>\n",
       "      <td>sa7ya mn el sa3a ashan 3andi tasleim el sa3a a...</td>\n",
       "      <td>0</td>\n",
       "      <td>0</td>\n",
       "      <td>0</td>\n",
       "      <td>0</td>\n",
       "      <td>0</td>\n",
       "      <td>0</td>\n",
       "      <td>0</td>\n",
       "      <td>0</td>\n",
       "      <td>1</td>\n",
       "      <td>1</td>\n",
       "      <td>0</td>\n",
       "      <td>0</td>\n",
       "    </tr>\n",
       "  </tbody>\n",
       "</table>\n",
       "</div>\n",
       "      <button class=\"colab-df-convert\" onclick=\"convertToInteractive('df-b289eb2b-cc3b-44f8-9720-a243ef5046ab')\"\n",
       "              title=\"Convert this dataframe to an interactive table.\"\n",
       "              style=\"display:none;\">\n",
       "        \n",
       "  <svg xmlns=\"http://www.w3.org/2000/svg\" height=\"24px\"viewBox=\"0 0 24 24\"\n",
       "       width=\"24px\">\n",
       "    <path d=\"M0 0h24v24H0V0z\" fill=\"none\"/>\n",
       "    <path d=\"M18.56 5.44l.94 2.06.94-2.06 2.06-.94-2.06-.94-.94-2.06-.94 2.06-2.06.94zm-11 1L8.5 8.5l.94-2.06 2.06-.94-2.06-.94L8.5 2.5l-.94 2.06-2.06.94zm10 10l.94 2.06.94-2.06 2.06-.94-2.06-.94-.94-2.06-.94 2.06-2.06.94z\"/><path d=\"M17.41 7.96l-1.37-1.37c-.4-.4-.92-.59-1.43-.59-.52 0-1.04.2-1.43.59L10.3 9.45l-7.72 7.72c-.78.78-.78 2.05 0 2.83L4 21.41c.39.39.9.59 1.41.59.51 0 1.02-.2 1.41-.59l7.78-7.78 2.81-2.81c.8-.78.8-2.07 0-2.86zM5.41 20L4 18.59l7.72-7.72 1.47 1.35L5.41 20z\"/>\n",
       "  </svg>\n",
       "      </button>\n",
       "      \n",
       "  <style>\n",
       "    .colab-df-container {\n",
       "      display:flex;\n",
       "      flex-wrap:wrap;\n",
       "      gap: 12px;\n",
       "    }\n",
       "\n",
       "    .colab-df-convert {\n",
       "      background-color: #E8F0FE;\n",
       "      border: none;\n",
       "      border-radius: 50%;\n",
       "      cursor: pointer;\n",
       "      display: none;\n",
       "      fill: #1967D2;\n",
       "      height: 32px;\n",
       "      padding: 0 0 0 0;\n",
       "      width: 32px;\n",
       "    }\n",
       "\n",
       "    .colab-df-convert:hover {\n",
       "      background-color: #E2EBFA;\n",
       "      box-shadow: 0px 1px 2px rgba(60, 64, 67, 0.3), 0px 1px 3px 1px rgba(60, 64, 67, 0.15);\n",
       "      fill: #174EA6;\n",
       "    }\n",
       "\n",
       "    [theme=dark] .colab-df-convert {\n",
       "      background-color: #3B4455;\n",
       "      fill: #D2E3FC;\n",
       "    }\n",
       "\n",
       "    [theme=dark] .colab-df-convert:hover {\n",
       "      background-color: #434B5C;\n",
       "      box-shadow: 0px 1px 3px 1px rgba(0, 0, 0, 0.15);\n",
       "      filter: drop-shadow(0px 1px 2px rgba(0, 0, 0, 0.3));\n",
       "      fill: #FFFFFF;\n",
       "    }\n",
       "  </style>\n",
       "\n",
       "      <script>\n",
       "        const buttonEl =\n",
       "          document.querySelector('#df-b289eb2b-cc3b-44f8-9720-a243ef5046ab button.colab-df-convert');\n",
       "        buttonEl.style.display =\n",
       "          google.colab.kernel.accessAllowed ? 'block' : 'none';\n",
       "\n",
       "        async function convertToInteractive(key) {\n",
       "          const element = document.querySelector('#df-b289eb2b-cc3b-44f8-9720-a243ef5046ab');\n",
       "          const dataTable =\n",
       "            await google.colab.kernel.invokeFunction('convertToInteractive',\n",
       "                                                     [key], {});\n",
       "          if (!dataTable) return;\n",
       "\n",
       "          const docLinkHtml = 'Like what you see? Visit the ' +\n",
       "            '<a target=\"_blank\" href=https://colab.research.google.com/notebooks/data_table.ipynb>data table notebook</a>'\n",
       "            + ' to learn more about interactive tables.';\n",
       "          element.innerHTML = '';\n",
       "          dataTable['output_type'] = 'display_data';\n",
       "          await google.colab.output.renderOutput(dataTable, element);\n",
       "          const docLink = document.createElement('div');\n",
       "          docLink.innerHTML = docLinkHtml;\n",
       "          element.appendChild(docLink);\n",
       "        }\n",
       "      </script>\n",
       "    </div>\n",
       "  </div>\n",
       "  "
      ],
      "text/plain": [
       "                                             content  Anger  Anticipation  \\\n",
       "0  l2a ana msh gamed bs 3al a2al msh bad5ol abden...      1             0   \n",
       "1  fe ramadan msh baftar lama yekoun 3andi emteha...      0             1   \n",
       "2    ftark 3andi anhrda ashan anta sha2yan t3ala kol      0             0   \n",
       "3  da eli kont 3awza asafer feh aslun ashan 3ed m...      0             0   \n",
       "4  sa7ya mn el sa3a ashan 3andi tasleim el sa3a a...      0             0   \n",
       "\n",
       "   Disgust  Fear  Joy  Love  Optimism  Pessimism  Sadness  Surprise  Trust  \\\n",
       "0        1     0    0     0         0          0        0         0      0   \n",
       "1        0     0    0     0         0          0        1         0      0   \n",
       "2        0     0    1     1         0          0        0         0      0   \n",
       "3        0     0    0     0         0          0        0         0      1   \n",
       "4        0     0    0     0         0          0        1         1      0   \n",
       "\n",
       "   Neutral  \n",
       "0        0  \n",
       "1        0  \n",
       "2        0  \n",
       "3        0  \n",
       "4        0  "
      ]
     },
     "execution_count": 4,
     "metadata": {},
     "output_type": "execute_result"
    }
   ],
   "source": [
    "df.head() # explore the top 5 rows of dataframe"
   ]
  },
  {
   "cell_type": "code",
   "execution_count": null,
   "metadata": {
    "colab": {
     "base_uri": "https://localhost:8080/"
    },
    "id": "cHXMbXptBDMZ",
    "outputId": "e6375c23-044f-4184-fcc9-52a553c6e6d6"
   },
   "outputs": [
    {
     "name": "stdout",
     "output_type": "stream",
     "text": [
      "<class 'pandas.core.frame.DataFrame'>\n",
      "RangeIndex: 10509 entries, 0 to 10508\n",
      "Data columns (total 13 columns):\n",
      " #   Column        Non-Null Count  Dtype \n",
      "---  ------        --------------  ----- \n",
      " 0   content       10509 non-null  object\n",
      " 1   Anger         10509 non-null  int64 \n",
      " 2   Anticipation  10509 non-null  int64 \n",
      " 3   Disgust       10509 non-null  int64 \n",
      " 4   Fear          10509 non-null  int64 \n",
      " 5   Joy           10509 non-null  int64 \n",
      " 6   Love          10509 non-null  int64 \n",
      " 7   Optimism      10509 non-null  int64 \n",
      " 8   Pessimism     10509 non-null  int64 \n",
      " 9   Sadness       10509 non-null  int64 \n",
      " 10  Surprise      10509 non-null  int64 \n",
      " 11  Trust         10509 non-null  int64 \n",
      " 12  Neutral       10509 non-null  int64 \n",
      "dtypes: int64(12), object(1)\n",
      "memory usage: 1.0+ MB\n"
     ]
    }
   ],
   "source": [
    "df.info() #print inforamation about dataframe"
   ]
  },
  {
   "cell_type": "code",
   "execution_count": null,
   "metadata": {
    "id": "sjED-7AnCSK4"
   },
   "outputs": [],
   "source": [
    "df.columns = df.columns.str.strip() # Remove spaces from columns names"
   ]
  },
  {
   "cell_type": "code",
   "execution_count": null,
   "metadata": {
    "colab": {
     "base_uri": "https://localhost:8080/"
    },
    "id": "NRPBj6vxnbj8",
    "outputId": "255d5081-f49b-4201-fc82-6a5fd250d42b"
   },
   "outputs": [
    {
     "name": "stdout",
     "output_type": "stream",
     "text": [
      "!\"#$%&'()*+,-./:;<=>?@[\\]^_`{|}~\n"
     ]
    }
   ],
   "source": [
    "print(string.punctuation) # the punctuations included in the string.punctuation"
   ]
  },
  {
   "cell_type": "code",
   "execution_count": null,
   "metadata": {
    "id": "HAtBKDJXmdq6"
   },
   "outputs": [],
   "source": [
    "#remove punctuations\n",
    "def remove_punctuations(tweet):\n",
    "  sentence = tweet.translate(str.maketrans('', '', string.punctuation))\n",
    "  return sentence\n",
    "df['content'] = df['content'].apply(lambda x:remove_punctuations(x))"
   ]
  },
  {
   "cell_type": "code",
   "execution_count": null,
   "metadata": {
    "id": "oT32qDeoBJHG"
   },
   "outputs": [],
   "source": [
    "#mask = (df['content'].str.split().str.len() >= 3) # filter tweets with length less than 3 words\n",
    "#df = df.loc[mask]"
   ]
  },
  {
   "cell_type": "code",
   "execution_count": null,
   "metadata": {
    "id": "dvlJuVtB-xxK"
   },
   "outputs": [],
   "source": [
    "rowSums = df.iloc[:,1:].sum(axis=1) # filter rows with all zeros (No label)\n",
    "df= df.loc[rowSums>0]"
   ]
  },
  {
   "cell_type": "code",
   "execution_count": null,
   "metadata": {
    "id": "uLT5mfkMCwGb"
   },
   "outputs": [],
   "source": [
    "#df.drop_duplicates(inplace= True) # drop duplicated rows"
   ]
  },
  {
   "cell_type": "code",
   "execution_count": null,
   "metadata": {
    "colab": {
     "base_uri": "https://localhost:8080/"
    },
    "id": "Iwi_Wq2f4dlJ",
    "outputId": "91fe7fde-1bd3-4066-b572-b75e07b23a0f"
   },
   "outputs": [
    {
     "name": "stdout",
     "output_type": "stream",
     "text": [
      "<class 'pandas.core.frame.DataFrame'>\n",
      "Int64Index: 10509 entries, 0 to 10508\n",
      "Data columns (total 13 columns):\n",
      " #   Column        Non-Null Count  Dtype \n",
      "---  ------        --------------  ----- \n",
      " 0   content       10509 non-null  object\n",
      " 1   Anger         10509 non-null  int64 \n",
      " 2   Anticipation  10509 non-null  int64 \n",
      " 3   Disgust       10509 non-null  int64 \n",
      " 4   Fear          10509 non-null  int64 \n",
      " 5   Joy           10509 non-null  int64 \n",
      " 6   Love          10509 non-null  int64 \n",
      " 7   Optimism      10509 non-null  int64 \n",
      " 8   Pessimism     10509 non-null  int64 \n",
      " 9   Sadness       10509 non-null  int64 \n",
      " 10  Surprise      10509 non-null  int64 \n",
      " 11  Trust         10509 non-null  int64 \n",
      " 12  Neutral       10509 non-null  int64 \n",
      "dtypes: int64(12), object(1)\n",
      "memory usage: 1.1+ MB\n"
     ]
    }
   ],
   "source": [
    "df.info()"
   ]
  },
  {
   "cell_type": "code",
   "execution_count": null,
   "metadata": {
    "colab": {
     "base_uri": "https://localhost:8080/",
     "height": 803
    },
    "id": "7AH6zeANzC5L",
    "outputId": "f62f19b6-84a4-43da-98bc-e2f80c19e144"
   },
   "outputs": [
    {
     "name": "stderr",
     "output_type": "stream",
     "text": [
      "/usr/local/lib/python3.9/dist-packages/seaborn/_decorators.py:36: FutureWarning: Pass the following variables as keyword args: x, y. From version 0.12, the only valid positional argument will be `data`, and passing other arguments without an explicit keyword will result in an error or misinterpretation.\n",
      "  warnings.warn(\n"
     ]
    },
    {
     "data": {
      "image/png": "[encoded data removed]",
      "text/plain": [
       "<Figure size 1440x864 with 1 Axes>"
      ]
     },
     "metadata": {
      "needs_background": "light"
     },
     "output_type": "display_data"
    }
   ],
   "source": [
    "# Exploratory data analysis\n",
    "# plot the bar plot of labels frequency\n",
    "y=df.iloc[:,1:].sum()\n",
    "plt.figure(figsize=(20,12))\n",
    "ax= sns.barplot(y.index, y.values, alpha=0.8)\n",
    "plt.title(\"Class counts\", fontsize=18)\n",
    "plt.ylabel('# of Occurrences', fontsize=18)\n",
    "plt.xlabel('Label ', fontsize=25)\n",
    "\n",
    "rects = ax.patches\n",
    "labels = y.values\n",
    "for rect, label in zip(rects, labels):\n",
    "    height = rect.get_height()\n",
    "    ax.text(rect.get_x() + rect.get_width()/2, height + 5, label, ha='center', va='bottom', fontsize=15)\n",
    "\n",
    "plt.show()"
   ]
  },
  {
   "cell_type": "code",
   "execution_count": null,
   "metadata": {
    "colab": {
     "base_uri": "https://localhost:8080/",
     "height": 597
    },
    "id": "y4Bnmlij1SOI",
    "outputId": "3ddd176b-2c38-4771-a364-f273ba46083f"
   },
   "outputs": [
    {
     "name": "stderr",
     "output_type": "stream",
     "text": [
      "/usr/local/lib/python3.9/dist-packages/seaborn/_decorators.py:36: FutureWarning: Pass the following variables as keyword args: x, y. From version 0.12, the only valid positional argument will be `data`, and passing other arguments without an explicit keyword will result in an error or misinterpretation.\n",
      "  warnings.warn(\n"
     ]
    },
    {
     "data": {
      "image/png": "[encoded data removed]",
      "text/plain": [
       "<Figure size 720x576 with 1 Axes>"
      ]
     },
     "metadata": {},
     "output_type": "display_data"
    }
   ],
   "source": [
    "# plot the bar plot of no of labels frequency\n",
    "rowSums = df.iloc[:,1:].sum(axis=1)\n",
    "multiLabel_counts = rowSums.value_counts()\n",
    "sns.set(font_scale = 2)\n",
    "plt.figure(figsize=(10,8))\n",
    "ax = sns.barplot(multiLabel_counts.index, multiLabel_counts.values)\n",
    "ax.set(ylim=(0, 11000))\n",
    "plt.title(\"Tweets having multiple labels \")\n",
    "plt.ylabel('Number of tweets', fontsize=18)\n",
    "plt.xlabel('Number of labels', fontsize=18) #adding the text labels\n",
    "rects = ax.patches\n",
    "labels = multiLabel_counts.values\n",
    "for rect, label in zip(rects, labels):\n",
    "    height = rect.get_height()\n",
    "    ax.text(rect.get_x() + rect.get_width()/2, height + 5, label, ha='center', va='bottom')\n",
    "plt.show()"
   ]
  },
  {
   "cell_type": "code",
   "execution_count": null,
   "metadata": {
    "colab": {
     "base_uri": "https://localhost:8080/",
     "height": 295
    },
    "id": "mOHLPPVxkkyJ",
    "outputId": "10aff7dc-ddcf-4ae6-b10d-a4ee86c48f76"
   },
   "outputs": [
    {
     "data": {
      "text/plain": [
       "<AxesSubplot:>"
      ]
     },
     "execution_count": 13,
     "metadata": {},
     "output_type": "execute_result"
    },
    {
     "data": {
      "image/png": "[encoded data removed]",
      "text/plain": [
       "<Figure size 432x288 with 1 Axes>"
      ]
     },
     "metadata": {},
     "output_type": "display_data"
    }
   ],
   "source": [
    "#The distribution of the number of words in tweets\n",
    "lens = df.content.str.split().str.len()\n",
    "lens.hist(bins = range(3,50))"
   ]
  },
  {
   "cell_type": "code",
   "execution_count": null,
   "metadata": {
    "id": "JA_WU70MmqRW"
   },
   "outputs": [],
   "source": [
    "# filter pure numbers in content column:\n",
    "df['content'] = df['content'].apply(lambda x: ' '.join([word for word in x.split() if not word.isnumeric()]))"
   ]
  },
  {
   "cell_type": "code",
   "execution_count": null,
   "metadata": {
    "id": "U0Ss3kAvGtAb"
   },
   "outputs": [],
   "source": [
    "X= df[\"content\"] # Tweets is the feature column"
   ]
  },
  {
   "cell_type": "code",
   "execution_count": null,
   "metadata": {
    "colab": {
     "base_uri": "https://localhost:8080/"
    },
    "id": "ejw6h0DJAawo",
    "outputId": "5d04bb9d-2d65-4b16-ca51-84fc7015c22b"
   },
   "outputs": [
    {
     "data": {
      "text/plain": [
       "[('ana', 4105),\n",
       " ('el', 3103),\n",
       " ('msh', 2173),\n",
       " ('ashan', 1818),\n",
       " ('zehe2t', 1464),\n",
       " ('mn', 1344),\n",
       " ('ya', 1308),\n",
       " ('msd2', 1139),\n",
       " ('youm', 1121),\n",
       " ('bs', 1032),\n",
       " ('3andi', 835),\n",
       " ('bahebk', 725),\n",
       " ('aswad', 701),\n",
       " ('sure', 688),\n",
       " ('kan', 678),\n",
       " ('weskha', 675),\n",
       " ('walahi', 621),\n",
       " ('kda', 605),\n",
       " ('ma', 576),\n",
       " ('awi', 569)]"
      ]
     },
     "execution_count": 21,
     "metadata": {},
     "output_type": "execute_result"
    }
   ],
   "source": [
    "# Count the frequency of each word in the tweets and print the most common 5 words\n",
    "count_vector = CountVectorizer(lowercase = True)\n",
    "bag_of_words= count_vector.fit_transform(X)\n",
    "sum_words = bag_of_words.sum(axis=0)\n",
    "words_freq = [(word, sum_words[0, idx]) for word, idx in count_vector.vocabulary_.items()]\n",
    "sorted(words_freq, key = lambda x: x[1], reverse=True)[:20]"
   ]
  },
  {
   "cell_type": "code",
   "execution_count": null,
   "metadata": {
    "id": "LETfQFv5FVUf"
   },
   "outputs": [],
   "source": [
    "train, test = train_test_split(df, random_state=42, test_size=0.20, shuffle=True)  # Split the data into train and test"
   ]
  },
  {
   "cell_type": "code",
   "execution_count": null,
   "metadata": {
    "id": "1aU8N37sGV7k"
   },
   "outputs": [],
   "source": [
    "x_train, y_train= train[\"content\"] , train.drop(\"content\",axis = 1)"
   ]
  },
  {
   "cell_type": "code",
   "execution_count": null,
   "metadata": {
    "id": "WJwJS-qlHXsE"
   },
   "outputs": [],
   "source": [
    "x_test, y_test= test[\"content\"] , test.drop(\"content\",axis = 1)"
   ]
  },
  {
   "cell_type": "code",
   "execution_count": null,
   "metadata": {
    "id": "npnYnLiPVdNI"
   },
   "outputs": [],
   "source": []
  },
  {
   "cell_type": "markdown",
   "metadata": {
    "id": "9HjhBKqZKJXc"
   },
   "source": [
    "**TfidfVectorizer with unigram :**"
   ]
  },
  {
   "cell_type": "code",
   "execution_count": null,
   "metadata": {
    "colab": {
     "base_uri": "https://localhost:8080/"
    },
    "id": "e1DbjgajuURL",
    "outputId": "6dad7727-33da-4bf0-ddc3-f0f0ffc80384"
   },
   "outputs": [
    {
     "name": "stderr",
     "output_type": "stream",
     "text": [
      "/usr/local/lib/python3.9/dist-packages/sklearn/metrics/_classification.py:1344: UndefinedMetricWarning: Precision and F-score are ill-defined and being set to 0.0 in samples with no predicted labels. Use `zero_division` parameter to control this behavior.\n",
      "  _warn_prf(average, modifier, msg_start, len(result))\n"
     ]
    },
    {
     "name": "stdout",
     "output_type": "stream",
     "text": [
      "Bagging\n",
      "Accuracy:  0.7778306374881065\n",
      "Precision:  0.8859315589353612\n",
      "Recall:  0.823321554770318\n",
      "F1-score:  0.8534798534798534\n",
      "*******************************************************************************\n"
     ]
    },
    {
     "name": "stderr",
     "output_type": "stream",
     "text": [
      "/usr/local/lib/python3.9/dist-packages/sklearn/metrics/_classification.py:1344: UndefinedMetricWarning: Precision and F-score are ill-defined and being set to 0.0 in samples with no predicted labels. Use `zero_division` parameter to control this behavior.\n",
      "  _warn_prf(average, modifier, msg_start, len(result))\n"
     ]
    },
    {
     "name": "stdout",
     "output_type": "stream",
     "text": [
      "AdaBoost\n",
      "Accuracy:  0.7725975261655567\n",
      "Precision:  0.8954597481877146\n",
      "Recall:  0.8293286219081272\n",
      "F1-score:  0.8611263988259034\n",
      "*******************************************************************************\n"
     ]
    },
    {
     "name": "stderr",
     "output_type": "stream",
     "text": [
      "/usr/local/lib/python3.9/dist-packages/sklearn/metrics/_classification.py:1344: UndefinedMetricWarning: Precision and F-score are ill-defined and being set to 0.0 in samples with no predicted labels. Use `zero_division` parameter to control this behavior.\n",
      "  _warn_prf(average, modifier, msg_start, len(result))\n"
     ]
    },
    {
     "name": "stdout",
     "output_type": "stream",
     "text": [
      "NB\n",
      "Accuracy:  0.6332064700285442\n",
      "Precision:  0.7008833384099908\n",
      "Recall:  0.8130742049469964\n",
      "F1-score:  0.7528218550629805\n",
      "*******************************************************************************\n"
     ]
    },
    {
     "name": "stderr",
     "output_type": "stream",
     "text": [
      "/usr/local/lib/python3.9/dist-packages/sklearn/metrics/_classification.py:1344: UndefinedMetricWarning: Precision and F-score are ill-defined and being set to 0.0 in samples with no predicted labels. Use `zero_division` parameter to control this behavior.\n",
      "  _warn_prf(average, modifier, msg_start, len(result))\n"
     ]
    },
    {
     "name": "stdout",
     "output_type": "stream",
     "text": [
      "RF\n",
      "Accuracy:  0.7840152235965747\n",
      "Precision:  0.9231707317073171\n",
      "Recall:  0.8024734982332156\n",
      "F1-score:  0.8586011342155009\n",
      "*******************************************************************************\n"
     ]
    },
    {
     "name": "stderr",
     "output_type": "stream",
     "text": [
      "/usr/local/lib/python3.9/dist-packages/sklearn/metrics/_classification.py:1344: UndefinedMetricWarning: Precision and F-score are ill-defined and being set to 0.0 in samples with no predicted labels. Use `zero_division` parameter to control this behavior.\n",
      "  _warn_prf(average, modifier, msg_start, len(result))\n"
     ]
    },
    {
     "name": "stdout",
     "output_type": "stream",
     "text": [
      "LR\n",
      "Accuracy:  0.7021883920076119\n",
      "Precision:  0.9319910514541387\n",
      "Recall:  0.7360424028268551\n",
      "F1-score:  0.8225074037512339\n",
      "*******************************************************************************\n",
      "SVC\n",
      "Accuracy:  0.7797335870599429\n",
      "Precision:  0.9133200795228629\n",
      "Recall:  0.811660777385159\n",
      "F1-score:  0.8594948550046773\n",
      "*******************************************************************************\n"
     ]
    },
    {
     "name": "stderr",
     "output_type": "stream",
     "text": [
      "/usr/local/lib/python3.9/dist-packages/sklearn/metrics/_classification.py:1344: UndefinedMetricWarning: Precision and F-score are ill-defined and being set to 0.0 in samples with no predicted labels. Use `zero_division` parameter to control this behavior.\n",
      "  _warn_prf(average, modifier, msg_start, len(result))\n"
     ]
    }
   ],
   "source": [
    "# Unigram1\n",
    "# Create a pipeline with tfidf with N-gram 1 and Bagging classifier using OneVsRestClassifier\n",
    "pipeline = Pipeline([\n",
    "                ('tfidf', TfidfVectorizer(ngram_range=(1,1),min_df= 2, max_df= 0.5)),\n",
    "                ('clf', OneVsRestClassifier(BaggingClassifier(n_jobs=-1))),\n",
    "            ])\n",
    "pipeline.fit(x_train, y_train) # fit the classifier with the training data\n",
    "predictions = pipeline.predict(x_test) # predict the labels of test dataset\n",
    "\n",
    "# pipeline evaluation:\n",
    "\n",
    "report = classification_report(y_test, predictions, output_dict=True)\n",
    "print(\"Bagging\")\n",
    "print(\"Accuracy: \", accuracy_score(y_test, predictions))\n",
    "print(\"Precision: \", report['micro avg']['precision'])\n",
    "print(\"Recall: \", report['micro avg']['recall'])\n",
    "print(\"F1-score: \", report['micro avg']['f1-score'])\n",
    "print(\"*******************************************************************************\")\n",
    "\n",
    "# Create a pipeline with tfidf with N-gram 1 and AdaBoost classifier using OneVsRestClassifier\n",
    "pipeline = Pipeline([\n",
    "                ('tfidf', TfidfVectorizer(ngram_range=(1, 1),min_df= 2, max_df= 0.5)),\n",
    "                ('clf', OneVsRestClassifier(AdaBoostClassifier(random_state=1))),\n",
    "            ])\n",
    "pipeline.fit(x_train, y_train) # fit the classifier with the training data\n",
    "predictions = pipeline.predict(x_test) # predict the labels of test dataset\n",
    "\n",
    "# pipeline evaluation:\n",
    "\n",
    "report = classification_report(y_test, predictions, output_dict=True)\n",
    "print(\"AdaBoost\")\n",
    "print(\"Accuracy: \", accuracy_score(y_test, predictions))\n",
    "print(\"Precision: \", report['micro avg']['precision'])\n",
    "print(\"Recall: \", report['micro avg']['recall'])\n",
    "print(\"F1-score: \", report['micro avg']['f1-score'])\n",
    "print(\"*******************************************************************************\")\n",
    "\n",
    "# Create a pipeline with tfidf with N-gram 1 and NB classifier using OneVsRestClassifier\n",
    "pipeline = Pipeline([\n",
    "                ('tfidf', TfidfVectorizer(ngram_range=(1, 1),min_df= 2, max_df= 0.5)),\n",
    "                ('clf', OneVsRestClassifier(MultinomialNB(fit_prior=False))),\n",
    "            ])\n",
    "pipeline.fit(x_train, y_train) # fit the classifier with the training data\n",
    "predictions = pipeline.predict(x_test) # predict the labels of test dataset\n",
    "\n",
    "# pipeline evaluation:\n",
    "\n",
    "report = classification_report(y_test, predictions, output_dict=True)\n",
    "print(\"NB\")\n",
    "print(\"Accuracy: \", accuracy_score(y_test, predictions))\n",
    "print(\"Precision: \", report['micro avg']['precision'])\n",
    "print(\"Recall: \", report['micro avg']['recall'])\n",
    "print(\"F1-score: \", report['micro avg']['f1-score'])\n",
    "print(\"*******************************************************************************\")\n",
    "\n",
    "# Create a pipeline with tfidf with N-gram 1 and RF classifier using OneVsRestClassifier\n",
    "pipeline = Pipeline([\n",
    "                ('tfidf', TfidfVectorizer(ngram_range=(1, 1),min_df= 2, max_df= 0.5)),\n",
    "                ('clf', OneVsRestClassifier(RandomForestClassifier(n_jobs=-1))),\n",
    "            ])\n",
    "pipeline.fit(x_train, y_train) # fit the classifier with the training data\n",
    "predictions = pipeline.predict(x_test) # predict the labels of test dataset\n",
    "\n",
    "# pipeline evaluation:\n",
    "\n",
    "report = classification_report(y_test, predictions, output_dict=True)\n",
    "print(\"RF\")\n",
    "print(\"Accuracy: \", accuracy_score(y_test, predictions))\n",
    "print(\"Precision: \", report['micro avg']['precision'])\n",
    "print(\"Recall: \", report['micro avg']['recall'])\n",
    "print(\"F1-score: \", report['micro avg']['f1-score'])\n",
    "print(\"*******************************************************************************\")\n",
    "\n",
    "# Create a pipeline with tfidf with N-gram 1 and LR classifier using OneVsRestClassifier\n",
    "pipeline = Pipeline([\n",
    "                ('tfidf', TfidfVectorizer(ngram_range=(1, 1),min_df= 2, max_df= 0.5)),\n",
    "                ('clf', OneVsRestClassifier(LogisticRegression(solver='sag'))),\n",
    "            ])\n",
    "pipeline.fit(x_train, y_train) # fit the classifier with the training data\n",
    "predictions = pipeline.predict(x_test) # predict the labels of test dataset\n",
    "\n",
    "# pipeline evaluation:\n",
    "\n",
    "report = classification_report(y_test, predictions, output_dict=True)\n",
    "print(\"LR\")\n",
    "print(\"Accuracy: \", accuracy_score(y_test, predictions))\n",
    "print(\"Precision: \", report['micro avg']['precision'])\n",
    "print(\"Recall: \", report['micro avg']['recall'])\n",
    "print(\"F1-score: \", report['micro avg']['f1-score'])\n",
    "print(\"*******************************************************************************\")\n",
    "\n",
    "# Create a pipeline with tfidf with N-gram 1 and SVC classifier using OneVsRestClassifier\n",
    "pipeline = Pipeline([\n",
    "                ('tfidf', TfidfVectorizer(ngram_range=(1, 1),min_df= 2, max_df= 0.5)),\n",
    "                ('clf', OneVsRestClassifier(LinearSVC())),\n",
    "            ])\n",
    "pipeline.fit(x_train, y_train) # fit the classifier with the training data\n",
    "predictions = pipeline.predict(x_test) # predict the labels of test dataset\n",
    "\n",
    "# pipeline evaluation:\n",
    "\n",
    "report = classification_report(y_test, predictions, output_dict=True)\n",
    "print(\"SVC\")\n",
    "print(\"Accuracy: \", accuracy_score(y_test, predictions))\n",
    "print(\"Precision: \", report['micro avg']['precision'])\n",
    "print(\"Recall: \", report['micro avg']['recall'])\n",
    "print(\"F1-score: \", report['micro avg']['f1-score'])\n",
    "print(\"*******************************************************************************\")\n"
   ]
  },
  {
   "cell_type": "markdown",
   "metadata": {
    "id": "vh_2dSbHKbFQ"
   },
   "source": [
    "**TfidfVectorizer with Bigram :**"
   ]
  },
  {
   "cell_type": "code",
   "execution_count": null,
   "metadata": {
    "colab": {
     "base_uri": "https://localhost:8080/"
    },
    "id": "jybBTSnc8y0Y",
    "outputId": "cb03fbf6-f3e1-424e-dc1d-8add7bd7492b"
   },
   "outputs": [
    {
     "name": "stderr",
     "output_type": "stream",
     "text": [
      "/usr/local/lib/python3.9/dist-packages/sklearn/metrics/_classification.py:1344: UndefinedMetricWarning: Precision and F-score are ill-defined and being set to 0.0 in samples with no predicted labels. Use `zero_division` parameter to control this behavior.\n",
      "  _warn_prf(average, modifier, msg_start, len(result))\n"
     ]
    },
    {
     "name": "stdout",
     "output_type": "stream",
     "text": [
      "Bagging\n",
      "Accuracy:  0.6141769743101808\n",
      "Precision:  0.857207615593835\n",
      "Recall:  0.6681978798586572\n",
      "F1-score:  0.7509928514694201\n",
      "*******************************************************************************\n"
     ]
    },
    {
     "name": "stderr",
     "output_type": "stream",
     "text": [
      "/usr/local/lib/python3.9/dist-packages/sklearn/metrics/_classification.py:1344: UndefinedMetricWarning: Precision and F-score are ill-defined and being set to 0.0 in samples with no predicted labels. Use `zero_division` parameter to control this behavior.\n",
      "  _warn_prf(average, modifier, msg_start, len(result))\n"
     ]
    },
    {
     "name": "stdout",
     "output_type": "stream",
     "text": [
      "AdaBoost\n",
      "Accuracy:  0.577069457659372\n",
      "Precision:  0.9362987369577156\n",
      "Recall:  0.6024734982332155\n",
      "F1-score:  0.7331756611481403\n",
      "*******************************************************************************\n"
     ]
    },
    {
     "name": "stderr",
     "output_type": "stream",
     "text": [
      "/usr/local/lib/python3.9/dist-packages/sklearn/metrics/_classification.py:1344: UndefinedMetricWarning: Precision and F-score are ill-defined and being set to 0.0 in samples with no predicted labels. Use `zero_division` parameter to control this behavior.\n",
      "  _warn_prf(average, modifier, msg_start, len(result))\n"
     ]
    },
    {
     "name": "stdout",
     "output_type": "stream",
     "text": [
      "NB\n",
      "Accuracy:  0.5447193149381542\n",
      "Precision:  0.53366524419156\n",
      "Recall:  0.7954063604240282\n",
      "F1-score:  0.6387627695800228\n",
      "*******************************************************************************\n"
     ]
    },
    {
     "name": "stderr",
     "output_type": "stream",
     "text": [
      "/usr/local/lib/python3.9/dist-packages/sklearn/metrics/_classification.py:1344: UndefinedMetricWarning: Precision and F-score are ill-defined and being set to 0.0 in samples with no predicted labels. Use `zero_division` parameter to control this behavior.\n",
      "  _warn_prf(average, modifier, msg_start, len(result))\n"
     ]
    },
    {
     "name": "stdout",
     "output_type": "stream",
     "text": [
      "RF\n",
      "Accuracy:  0.6384395813510942\n",
      "Precision:  0.8926713947990543\n",
      "Recall:  0.6671378091872792\n",
      "F1-score:  0.7635995955510616\n",
      "*******************************************************************************\n"
     ]
    },
    {
     "name": "stderr",
     "output_type": "stream",
     "text": [
      "/usr/local/lib/python3.9/dist-packages/sklearn/metrics/_classification.py:1344: UndefinedMetricWarning: Precision and F-score are ill-defined and being set to 0.0 in samples with no predicted labels. Use `zero_division` parameter to control this behavior.\n",
      "  _warn_prf(average, modifier, msg_start, len(result))\n"
     ]
    },
    {
     "name": "stdout",
     "output_type": "stream",
     "text": [
      "LR\n",
      "Accuracy:  0.5242626070409134\n",
      "Precision:  0.9291569086651054\n",
      "Recall:  0.5607773851590107\n",
      "F1-score:  0.6994270603790216\n",
      "*******************************************************************************\n",
      "SVC\n",
      "Accuracy:  0.6436726926736441\n",
      "Precision:  0.8955152671755725\n",
      "Recall:  0.6632508833922262\n",
      "F1-score:  0.7620787657328462\n",
      "*******************************************************************************\n"
     ]
    },
    {
     "name": "stderr",
     "output_type": "stream",
     "text": [
      "/usr/local/lib/python3.9/dist-packages/sklearn/metrics/_classification.py:1344: UndefinedMetricWarning: Precision and F-score are ill-defined and being set to 0.0 in samples with no predicted labels. Use `zero_division` parameter to control this behavior.\n",
      "  _warn_prf(average, modifier, msg_start, len(result))\n"
     ]
    }
   ],
   "source": [
    "# Bigram\n",
    "# Create a pipeline with tfidf with N-gram 2 and Bagging classifier using OneVsRestClassifier\n",
    "pipeline = Pipeline([\n",
    "               ('tfidf', TfidfVectorizer(ngram_range=(2, 2), min_df= 2, max_df= 0.5)),\n",
    "                ('clf', OneVsRestClassifier(BaggingClassifier(n_jobs=-1))),\n",
    "            ])\n",
    "pipeline.fit(x_train, y_train) # fit the classifier with the training data\n",
    "predictions = pipeline.predict(x_test) # predict the labels of test dataset\n",
    "\n",
    "# pipeline evaluation:\n",
    "\n",
    "report = classification_report(y_test, predictions, output_dict=True)\n",
    "print(\"Bagging\")\n",
    "print(\"Accuracy: \", accuracy_score(y_test, predictions))\n",
    "print(\"Precision: \", report['micro avg']['precision'])\n",
    "print(\"Recall: \", report['micro avg']['recall'])\n",
    "print(\"F1-score: \", report['micro avg']['f1-score'])\n",
    "print(\"*******************************************************************************\")\n",
    "\n",
    "# Create a pipeline with tfidf with N-gram 2 and AdaBoost classifier using OneVsRestClassifier\n",
    "pipeline = Pipeline([\n",
    "                ('tfidf', TfidfVectorizer(ngram_range=(2, 2), min_df= 2, max_df= 0.5)),\n",
    "                ('clf', OneVsRestClassifier(AdaBoostClassifier(random_state=1))),\n",
    "            ])\n",
    "pipeline.fit(x_train, y_train) # fit the classifier with the training data\n",
    "predictions = pipeline.predict(x_test) # predict the labels of test dataset\n",
    "\n",
    "# pipeline evaluation:\n",
    "\n",
    "report = classification_report(y_test, predictions, output_dict=True)\n",
    "print(\"AdaBoost\")\n",
    "print(\"Accuracy: \", accuracy_score(y_test, predictions))\n",
    "print(\"Precision: \", report['micro avg']['precision'])\n",
    "print(\"Recall: \", report['micro avg']['recall'])\n",
    "print(\"F1-score: \", report['micro avg']['f1-score'])\n",
    "print(\"*******************************************************************************\")\n",
    "\n",
    "# Create a pipeline with tfidf with N-gram 2 and NB classifier using OneVsRestClassifier\n",
    "pipeline = Pipeline([\n",
    "               ('tfidf', TfidfVectorizer(ngram_range=(2, 2), min_df= 2, max_df= 0.5)),\n",
    "                ('clf', OneVsRestClassifier(MultinomialNB(fit_prior=False))),\n",
    "            ])\n",
    "pipeline.fit(x_train, y_train) # fit the classifier with the training data\n",
    "predictions = pipeline.predict(x_test) # predict the labels of test dataset\n",
    "\n",
    "# pipeline evaluation:\n",
    "\n",
    "report = classification_report(y_test, predictions, output_dict=True)\n",
    "print(\"NB\")\n",
    "print(\"Accuracy: \", accuracy_score(y_test, predictions))\n",
    "print(\"Precision: \", report['micro avg']['precision'])\n",
    "print(\"Recall: \", report['micro avg']['recall'])\n",
    "print(\"F1-score: \", report['micro avg']['f1-score'])\n",
    "print(\"*******************************************************************************\")\n",
    "\n",
    "# Create a pipeline with tfidf with N-gram 2 and RF classifier using OneVsRestClassifier\n",
    "pipeline = Pipeline([\n",
    "               ('tfidf', TfidfVectorizer(ngram_range=(2, 2), min_df= 2, max_df= 0.5)),\n",
    "                ('clf', OneVsRestClassifier(RandomForestClassifier(n_jobs=-1))),\n",
    "            ])\n",
    "pipeline.fit(x_train, y_train) # fit the classifier with the training data\n",
    "predictions = pipeline.predict(x_test) # predict the labels of test dataset\n",
    "\n",
    "# pipeline evaluation:\n",
    "\n",
    "report = classification_report(y_test, predictions, output_dict=True)\n",
    "print(\"RF\")\n",
    "print(\"Accuracy: \", accuracy_score(y_test, predictions))\n",
    "print(\"Precision: \", report['micro avg']['precision'])\n",
    "print(\"Recall: \", report['micro avg']['recall'])\n",
    "print(\"F1-score: \", report['micro avg']['f1-score'])\n",
    "print(\"*******************************************************************************\")\n",
    "\n",
    "# Create a pipeline with tfidf with N-gram 2 and LR classifier using OneVsRestClassifier\n",
    "pipeline = Pipeline([\n",
    "                ('tfidf', TfidfVectorizer(ngram_range=(2, 2), min_df= 2, max_df= 0.5)),\n",
    "                ('clf', OneVsRestClassifier(LogisticRegression(solver='sag'))),\n",
    "            ])\n",
    "pipeline.fit(x_train, y_train) # fit the classifier with the training data\n",
    "predictions = pipeline.predict(x_test) # predict the labels of test dataset\n",
    "\n",
    "# pipeline evaluation:\n",
    "\n",
    "report = classification_report(y_test, predictions, output_dict=True)\n",
    "print(\"LR\")\n",
    "print(\"Accuracy: \", accuracy_score(y_test, predictions))\n",
    "print(\"Precision: \", report['micro avg']['precision'])\n",
    "print(\"Recall: \", report['micro avg']['recall'])\n",
    "print(\"F1-score: \", report['micro avg']['f1-score'])\n",
    "print(\"*******************************************************************************\")\n",
    "\n",
    "# Create a pipeline with tfidf with N-gram 2 and SVC classifier using OneVsRestClassifier\n",
    "pipeline = Pipeline([\n",
    "                ('tfidf', TfidfVectorizer(ngram_range=(2, 2), min_df= 2, max_df= 0.5)),\n",
    "                ('clf', OneVsRestClassifier(LinearSVC())),\n",
    "            ])\n",
    "pipeline.fit(x_train, y_train) # fit the classifier with the training data\n",
    "predictions = pipeline.predict(x_test) # predict the labels of test dataset\n",
    "\n",
    "# pipeline evaluation:\n",
    "\n",
    "report = classification_report(y_test, predictions, output_dict=True)\n",
    "print(\"SVC\")\n",
    "print(\"Accuracy: \", accuracy_score(y_test, predictions))\n",
    "print(\"Precision: \", report['micro avg']['precision'])\n",
    "print(\"Recall: \", report['micro avg']['recall'])\n",
    "print(\"F1-score: \", report['micro avg']['f1-score'])\n",
    "print(\"*******************************************************************************\")"
   ]
  },
  {
   "cell_type": "markdown",
   "metadata": {
    "id": "jQhv3xawFldK"
   },
   "source": [
    "**Tfidf_Vectorizer with Trigram** \n"
   ]
  },
  {
   "cell_type": "code",
   "execution_count": null,
   "metadata": {
    "colab": {
     "base_uri": "https://localhost:8080/"
    },
    "id": "kyc72Yvk-IHQ",
    "outputId": "d185d185-8614-4612-ab9a-a3d7d28fbcc6"
   },
   "outputs": [
    {
     "name": "stderr",
     "output_type": "stream",
     "text": [
      "/usr/local/lib/python3.8/dist-packages/sklearn/metrics/_classification.py:1318: UndefinedMetricWarning: Precision and F-score are ill-defined and being set to 0.0 in samples with no predicted labels. Use `zero_division` parameter to control this behavior.\n",
      "  _warn_prf(average, modifier, msg_start, len(result))\n"
     ]
    },
    {
     "name": "stdout",
     "output_type": "stream",
     "text": [
      "Bagging\n",
      "Accuracy:  0.29105417891642166\n",
      "Precision:  0.8430851063829787\n",
      "Recall:  0.303639846743295\n",
      "F1-score:  0.44647887323943664\n",
      "*******************************************************************************\n"
     ]
    },
    {
     "name": "stderr",
     "output_type": "stream",
     "text": [
      "/usr/local/lib/python3.8/dist-packages/sklearn/metrics/_classification.py:1318: UndefinedMetricWarning: Precision and F-score are ill-defined and being set to 0.0 in samples with no predicted labels. Use `zero_division` parameter to control this behavior.\n",
      "  _warn_prf(average, modifier, msg_start, len(result))\n"
     ]
    },
    {
     "name": "stdout",
     "output_type": "stream",
     "text": [
      "AdaBoost\n",
      "Accuracy:  0.24653506929861402\n",
      "Precision:  0.9170560747663551\n",
      "Recall:  0.25063856960408687\n",
      "F1-score:  0.3936810431293882\n",
      "*******************************************************************************\n"
     ]
    },
    {
     "name": "stderr",
     "output_type": "stream",
     "text": [
      "/usr/local/lib/python3.8/dist-packages/sklearn/metrics/_classification.py:1318: UndefinedMetricWarning: Precision and F-score are ill-defined and being set to 0.0 in samples with no predicted labels. Use `zero_division` parameter to control this behavior.\n",
      "  _warn_prf(average, modifier, msg_start, len(result))\n"
     ]
    },
    {
     "name": "stdout",
     "output_type": "stream",
     "text": [
      "NB\n",
      "Accuracy:  0.22847543049139019\n",
      "Precision:  0.439622641509434\n",
      "Recall:  0.3719667943805875\n",
      "F1-score:  0.4029747492217226\n",
      "*******************************************************************************\n"
     ]
    },
    {
     "name": "stderr",
     "output_type": "stream",
     "text": [
      "/usr/local/lib/python3.8/dist-packages/sklearn/metrics/_classification.py:1318: UndefinedMetricWarning: Precision and F-score are ill-defined and being set to 0.0 in samples with no predicted labels. Use `zero_division` parameter to control this behavior.\n",
      "  _warn_prf(average, modifier, msg_start, len(result))\n"
     ]
    },
    {
     "name": "stdout",
     "output_type": "stream",
     "text": [
      "RF\n",
      "Accuracy:  0.2994540109197816\n",
      "Precision:  0.8617305976806423\n",
      "Recall:  0.30842911877394635\n",
      "F1-score:  0.4542675758288267\n",
      "*******************************************************************************\n"
     ]
    },
    {
     "name": "stderr",
     "output_type": "stream",
     "text": [
      "/usr/local/lib/python3.8/dist-packages/sklearn/metrics/_classification.py:1318: UndefinedMetricWarning: Precision and F-score are ill-defined and being set to 0.0 in samples with no predicted labels. Use `zero_division` parameter to control this behavior.\n",
      "  _warn_prf(average, modifier, msg_start, len(result))\n"
     ]
    },
    {
     "name": "stdout",
     "output_type": "stream",
     "text": [
      "LR\n",
      "Accuracy:  0.19487610247795045\n",
      "Precision:  0.8891928864569083\n",
      "Recall:  0.20753512132822477\n",
      "F1-score:  0.3365260160497023\n",
      "*******************************************************************************\n",
      "SVC\n",
      "Accuracy:  0.29441411171776566\n",
      "Precision:  0.8712962962962963\n",
      "Recall:  0.3004469987228608\n",
      "F1-score:  0.4468186134852802\n",
      "*******************************************************************************\n"
     ]
    },
    {
     "name": "stderr",
     "output_type": "stream",
     "text": [
      "/usr/local/lib/python3.8/dist-packages/sklearn/metrics/_classification.py:1318: UndefinedMetricWarning: Precision and F-score are ill-defined and being set to 0.0 in samples with no predicted labels. Use `zero_division` parameter to control this behavior.\n",
      "  _warn_prf(average, modifier, msg_start, len(result))\n"
     ]
    }
   ],
   "source": [
    "# Trigram \n",
    "# Create a pipeline with tfidf with N-gram 3 and Bagging classifier using OneVsRestClassifier\n",
    "pipeline = Pipeline([\n",
    "               ('tfidf', TfidfVectorizer(ngram_range=(3, 3), min_df= 2, max_df= 0.5)),\n",
    "                ('clf', OneVsRestClassifier(BaggingClassifier(n_jobs=-1))),\n",
    "            ])\n",
    "pipeline.fit(x_train, y_train) # fit the classifier with the training data\n",
    "predictions = pipeline.predict(x_test) # predict the labels of test dataset\n",
    "\n",
    "# pipeline evaluation:\n",
    "\n",
    "report = classification_report(y_test, predictions, output_dict=True)\n",
    "print(\"Bagging\")\n",
    "print(\"Accuracy: \", accuracy_score(y_test, predictions))\n",
    "print(\"Precision: \", report['micro avg']['precision'])\n",
    "print(\"Recall: \", report['micro avg']['recall'])\n",
    "print(\"F1-score: \", report['micro avg']['f1-score'])\n",
    "print(\"*******************************************************************************\")\n",
    "\n",
    "# Create a pipeline with tfidf with N-gram 3 and AdaBoost classifier using OneVsRestClassifier\n",
    "pipeline = Pipeline([\n",
    "                ('tfidf', TfidfVectorizer(ngram_range=(3, 3), min_df= 2, max_df= 0.5)),\n",
    "                ('clf', OneVsRestClassifier(AdaBoostClassifier(random_state=1))),\n",
    "            ])\n",
    "pipeline.fit(x_train, y_train) # fit the classifier with the training data\n",
    "predictions = pipeline.predict(x_test) # predict the labels of test dataset\n",
    "\n",
    "# pipeline evaluation:\n",
    "\n",
    "report = classification_report(y_test, predictions, output_dict=True)\n",
    "print(\"AdaBoost\")\n",
    "print(\"Accuracy: \", accuracy_score(y_test, predictions))\n",
    "print(\"Precision: \", report['micro avg']['precision'])\n",
    "print(\"Recall: \", report['micro avg']['recall'])\n",
    "print(\"F1-score: \", report['micro avg']['f1-score'])\n",
    "print(\"*******************************************************************************\")\n",
    "\n",
    "# Create a pipeline with tfidf with N-gram 3 and NB classifier using OneVsRestClassifier\n",
    "pipeline = Pipeline([\n",
    "               ('tfidf', TfidfVectorizer(ngram_range=(3, 3), min_df= 2, max_df= 0.5)),\n",
    "                ('clf', OneVsRestClassifier(MultinomialNB(fit_prior=False))),\n",
    "            ])\n",
    "pipeline.fit(x_train, y_train) # fit the classifier with the training data\n",
    "predictions = pipeline.predict(x_test) # predict the labels of test dataset\n",
    "\n",
    "# pipeline evaluation:\n",
    "\n",
    "report = classification_report(y_test, predictions, output_dict=True)\n",
    "print(\"NB\")\n",
    "print(\"Accuracy: \", accuracy_score(y_test, predictions))\n",
    "print(\"Precision: \", report['micro avg']['precision'])\n",
    "print(\"Recall: \", report['micro avg']['recall'])\n",
    "print(\"F1-score: \", report['micro avg']['f1-score'])\n",
    "print(\"*******************************************************************************\")\n",
    "\n",
    "# Create a pipeline with tfidf with N-gram 3 and RF classifier using OneVsRestClassifier\n",
    "pipeline = Pipeline([\n",
    "               ('tfidf', TfidfVectorizer(ngram_range=(3, 3), min_df= 2, max_df= 0.5)),\n",
    "                ('clf', OneVsRestClassifier(RandomForestClassifier(n_jobs=-1))),\n",
    "            ])\n",
    "pipeline.fit(x_train, y_train) # fit the classifier with the training data\n",
    "predictions = pipeline.predict(x_test) # predict the labels of test dataset\n",
    "\n",
    "# pipeline evaluation:\n",
    "\n",
    "report = classification_report(y_test, predictions, output_dict=True)\n",
    "print(\"RF\")\n",
    "print(\"Accuracy: \", accuracy_score(y_test, predictions))\n",
    "print(\"Precision: \", report['micro avg']['precision'])\n",
    "print(\"Recall: \", report['micro avg']['recall'])\n",
    "print(\"F1-score: \", report['micro avg']['f1-score'])\n",
    "print(\"*******************************************************************************\")\n",
    "\n",
    "# Create a pipeline with tfidf with N-gram 3 and LR classifier using OneVsRestClassifier\n",
    "pipeline = Pipeline([\n",
    "                ('tfidf', TfidfVectorizer(ngram_range=(3, 3), min_df= 2, max_df= 0.5)),\n",
    "                ('clf', OneVsRestClassifier(LogisticRegression(solver='sag'))),\n",
    "            ])\n",
    "pipeline.fit(x_train, y_train) # fit the classifier with the training data\n",
    "predictions = pipeline.predict(x_test) # predict the labels of test dataset\n",
    "\n",
    "# pipeline evaluation:\n",
    "\n",
    "report = classification_report(y_test, predictions, output_dict=True)\n",
    "print(\"LR\")\n",
    "print(\"Accuracy: \", accuracy_score(y_test, predictions))\n",
    "print(\"Precision: \", report['micro avg']['precision'])\n",
    "print(\"Recall: \", report['micro avg']['recall'])\n",
    "print(\"F1-score: \", report['micro avg']['f1-score'])\n",
    "print(\"*******************************************************************************\")\n",
    "\n",
    "# Create a pipeline with tfidf with N-gram 3 and SVC classifier using OneVsRestClassifier\n",
    "pipeline = Pipeline([\n",
    "                ('tfidf', TfidfVectorizer(ngram_range=(3, 3), min_df= 2, max_df= 0.5)),\n",
    "                ('clf', OneVsRestClassifier(LinearSVC())),\n",
    "            ])\n",
    "pipeline.fit(x_train, y_train) # fit the classifier with the training data\n",
    "predictions = pipeline.predict(x_test) # predict the labels of test dataset\n",
    "\n",
    "# pipeline evaluation:\n",
    "\n",
    "report = classification_report(y_test, predictions, output_dict=True)\n",
    "print(\"SVC\")\n",
    "print(\"Accuracy: \", accuracy_score(y_test, predictions))\n",
    "print(\"Precision: \", report['micro avg']['precision'])\n",
    "print(\"Recall: \", report['micro avg']['recall'])\n",
    "print(\"F1-score: \", report['micro avg']['f1-score'])\n",
    "print(\"*******************************************************************************\")"
   ]
  },
  {
   "cell_type": "markdown",
   "metadata": {
    "id": "97byzqwJGOX-"
   },
   "source": [
    "**N Char (3-10)**"
   ]
  },
  {
   "cell_type": "code",
   "execution_count": null,
   "metadata": {
    "colab": {
     "base_uri": "https://localhost:8080/"
    },
    "id": "UFw8XgiPwQ1x",
    "outputId": "64494b6f-9fa9-4cdd-d909-131917c03cc5"
   },
   "outputs": [
    {
     "name": "stderr",
     "output_type": "stream",
     "text": [
      "/usr/local/lib/python3.8/dist-packages/sklearn/metrics/_classification.py:1318: UndefinedMetricWarning: Precision and F-score are ill-defined and being set to 0.0 in samples with no predicted labels. Use `zero_division` parameter to control this behavior.\n",
      "  _warn_prf(average, modifier, msg_start, len(result))\n"
     ]
    },
    {
     "name": "stdout",
     "output_type": "stream",
     "text": [
      "Bagging\n",
      "Accuracy:  0.7677446451070978\n",
      "Precision:  0.8940350877192983\n",
      "Recall:  0.8135376756066411\n",
      "F1-score:  0.8518890003343365\n",
      "*******************************************************************************\n"
     ]
    },
    {
     "name": "stderr",
     "output_type": "stream",
     "text": [
      "/usr/local/lib/python3.8/dist-packages/sklearn/metrics/_classification.py:1318: UndefinedMetricWarning: Precision and F-score are ill-defined and being set to 0.0 in samples with no predicted labels. Use `zero_division` parameter to control this behavior.\n",
      "  _warn_prf(average, modifier, msg_start, len(result))\n"
     ]
    },
    {
     "name": "stdout",
     "output_type": "stream",
     "text": [
      "AdaBoost\n",
      "Accuracy:  0.750104997900042\n",
      "Precision:  0.8952106589845157\n",
      "Recall:  0.7937420178799489\n",
      "F1-score:  0.8414283296666103\n",
      "*******************************************************************************\n"
     ]
    },
    {
     "name": "stderr",
     "output_type": "stream",
     "text": [
      "/usr/local/lib/python3.8/dist-packages/sklearn/metrics/_classification.py:1318: UndefinedMetricWarning: Precision and F-score are ill-defined and being set to 0.0 in samples with no predicted labels. Use `zero_division` parameter to control this behavior.\n",
      "  _warn_prf(average, modifier, msg_start, len(result))\n"
     ]
    },
    {
     "name": "stdout",
     "output_type": "stream",
     "text": [
      "NB\n",
      "Accuracy:  0.6522469550608988\n",
      "Precision:  0.7813923227065712\n",
      "Recall:  0.7669220945083014\n",
      "F1-score:  0.7740895907186592\n",
      "*******************************************************************************\n"
     ]
    },
    {
     "name": "stderr",
     "output_type": "stream",
     "text": [
      "/usr/local/lib/python3.8/dist-packages/sklearn/metrics/_classification.py:1318: UndefinedMetricWarning: Precision and F-score are ill-defined and being set to 0.0 in samples with no predicted labels. Use `zero_division` parameter to control this behavior.\n",
      "  _warn_prf(average, modifier, msg_start, len(result))\n"
     ]
    },
    {
     "name": "stdout",
     "output_type": "stream",
     "text": [
      "RF\n",
      "Accuracy:  0.7795044099118018\n",
      "Precision:  0.9283047050037341\n",
      "Recall:  0.7937420178799489\n",
      "F1-score:  0.8557659208261618\n",
      "*******************************************************************************\n"
     ]
    },
    {
     "name": "stderr",
     "output_type": "stream",
     "text": [
      "/usr/local/lib/python3.8/dist-packages/sklearn/metrics/_classification.py:1318: UndefinedMetricWarning: Precision and F-score are ill-defined and being set to 0.0 in samples with no predicted labels. Use `zero_division` parameter to control this behavior.\n",
      "  _warn_prf(average, modifier, msg_start, len(result))\n"
     ]
    },
    {
     "name": "stdout",
     "output_type": "stream",
     "text": [
      "LR\n",
      "Accuracy:  0.6921461570768584\n",
      "Precision:  0.9262428687856561\n",
      "Recall:  0.7257343550446999\n",
      "F1-score:  0.8138202649480843\n",
      "*******************************************************************************\n",
      "SVC\n",
      "Accuracy:  0.7782444351112978\n",
      "Precision:  0.9166062364031907\n",
      "Recall:  0.8071519795657727\n",
      "F1-score:  0.8584040747028864\n",
      "*******************************************************************************\n"
     ]
    },
    {
     "name": "stderr",
     "output_type": "stream",
     "text": [
      "/usr/local/lib/python3.8/dist-packages/sklearn/metrics/_classification.py:1318: UndefinedMetricWarning: Precision and F-score are ill-defined and being set to 0.0 in samples with no predicted labels. Use `zero_division` parameter to control this behavior.\n",
      "  _warn_prf(average, modifier, msg_start, len(result))\n"
     ]
    }
   ],
   "source": [
    "# Char 3\n",
    "# Create a pipeline with tfidf with N-char 3 and Bagging classifier using OneVsRestClassifier\n",
    "pipeline = Pipeline([\n",
    "               ('tfidf', TfidfVectorizer(analyzer='char',ngram_range=(3, 3), min_df= 2, max_df= 0.5)),\n",
    "                ('clf', OneVsRestClassifier(BaggingClassifier(n_jobs=-1))),\n",
    "            ])\n",
    "pipeline.fit(x_train, y_train) # fit the classifier with the training data\n",
    "predictions = pipeline.predict(x_test) # predict the labels of test dataset\n",
    "\n",
    "# pipeline evaluation:\n",
    "\n",
    "report = classification_report(y_test, predictions, output_dict=True)\n",
    "print(\"Bagging\")\n",
    "print(\"Accuracy: \", accuracy_score(y_test, predictions))\n",
    "print(\"Precision: \", report['micro avg']['precision'])\n",
    "print(\"Recall: \", report['micro avg']['recall'])\n",
    "print(\"F1-score: \", report['micro avg']['f1-score'])\n",
    "print(\"*******************************************************************************\")\n",
    "\n",
    "# Create a pipeline with tfidf with N-char 3 and AdaBoost classifier using OneVsRestClassifier\n",
    "pipeline = Pipeline([\n",
    "                ('tfidf', TfidfVectorizer(analyzer='char',ngram_range=(3, 3), min_df= 2, max_df= 0.5)),\n",
    "                ('clf', OneVsRestClassifier(AdaBoostClassifier(random_state=1))),\n",
    "            ])\n",
    "pipeline.fit(x_train, y_train) # fit the classifier with the training data\n",
    "predictions = pipeline.predict(x_test) # predict the labels of test dataset\n",
    "\n",
    "# pipeline evaluation:\n",
    "\n",
    "report = classification_report(y_test, predictions, output_dict=True)\n",
    "print(\"AdaBoost\")\n",
    "print(\"Accuracy: \", accuracy_score(y_test, predictions))\n",
    "print(\"Precision: \", report['micro avg']['precision'])\n",
    "print(\"Recall: \", report['micro avg']['recall'])\n",
    "print(\"F1-score: \", report['micro avg']['f1-score'])\n",
    "print(\"*******************************************************************************\")\n",
    "\n",
    "# Create a pipeline with tfidf with N-char 3 and NB classifier using OneVsRestClassifier\n",
    "pipeline = Pipeline([\n",
    "               ('tfidf', TfidfVectorizer(analyzer='char',ngram_range=(3, 3), min_df= 2, max_df= 0.5)),\n",
    "                ('clf', OneVsRestClassifier(MultinomialNB(fit_prior=False))),\n",
    "            ])\n",
    "pipeline.fit(x_train, y_train) # fit the classifier with the training data\n",
    "predictions = pipeline.predict(x_test) # predict the labels of test dataset\n",
    "\n",
    "# pipeline evaluation:\n",
    "\n",
    "report = classification_report(y_test, predictions, output_dict=True)\n",
    "print(\"NB\")\n",
    "print(\"Accuracy: \", accuracy_score(y_test, predictions))\n",
    "print(\"Precision: \", report['micro avg']['precision'])\n",
    "print(\"Recall: \", report['micro avg']['recall'])\n",
    "print(\"F1-score: \", report['micro avg']['f1-score'])\n",
    "print(\"*******************************************************************************\")\n",
    "\n",
    "# Create a pipeline with tfidf with N-char 3 and RF classifier using OneVsRestClassifier\n",
    "pipeline = Pipeline([\n",
    "              ('tfidf', TfidfVectorizer(analyzer='char',ngram_range=(3, 3), min_df= 2, max_df= 0.5)),\n",
    "                ('clf', OneVsRestClassifier(RandomForestClassifier(n_jobs=-1))),\n",
    "            ])\n",
    "pipeline.fit(x_train, y_train) # fit the classifier with the training data\n",
    "predictions = pipeline.predict(x_test) # predict the labels of test dataset\n",
    "\n",
    "# pipeline evaluation:\n",
    "\n",
    "report = classification_report(y_test, predictions, output_dict=True)\n",
    "print(\"RF\")\n",
    "print(\"Accuracy: \", accuracy_score(y_test, predictions))\n",
    "print(\"Precision: \", report['micro avg']['precision'])\n",
    "print(\"Recall: \", report['micro avg']['recall'])\n",
    "print(\"F1-score: \", report['micro avg']['f1-score'])\n",
    "print(\"*******************************************************************************\")\n",
    "\n",
    "# Create a pipeline with tfidf with N-char 3 and LR classifier using OneVsRestClassifier\n",
    "pipeline = Pipeline([\n",
    "                ('tfidf', TfidfVectorizer(analyzer='char',ngram_range=(3, 3), min_df= 2, max_df= 0.5)),\n",
    "                ('clf', OneVsRestClassifier(LogisticRegression(solver='sag'))),\n",
    "            ])\n",
    "pipeline.fit(x_train, y_train) # fit the classifier with the training data\n",
    "predictions = pipeline.predict(x_test) # predict the labels of test dataset\n",
    "\n",
    "# pipeline evaluation:\n",
    "\n",
    "report = classification_report(y_test, predictions, output_dict=True)\n",
    "print(\"LR\")\n",
    "print(\"Accuracy: \", accuracy_score(y_test, predictions))\n",
    "print(\"Precision: \", report['micro avg']['precision'])\n",
    "print(\"Recall: \", report['micro avg']['recall'])\n",
    "print(\"F1-score: \", report['micro avg']['f1-score'])\n",
    "print(\"*******************************************************************************\")\n",
    "\n",
    "# Create a pipeline with tfidf with N-char 3 and SVC classifier using OneVsRestClassifier\n",
    "pipeline = Pipeline([\n",
    "                ('tfidf', TfidfVectorizer(analyzer='char',ngram_range=(3, 3), min_df= 2, max_df= 0.5)),\n",
    "                ('clf', OneVsRestClassifier(LinearSVC())),\n",
    "            ])\n",
    "pipeline.fit(x_train, y_train) # fit the classifier with the training data\n",
    "predictions = pipeline.predict(x_test) # predict the labels of test dataset\n",
    "\n",
    "# pipeline evaluation:\n",
    "\n",
    "report = classification_report(y_test, predictions, output_dict=True)\n",
    "print(\"SVC\")\n",
    "print(\"Accuracy: \", accuracy_score(y_test, predictions))\n",
    "print(\"Precision: \", report['micro avg']['precision'])\n",
    "print(\"Recall: \", report['micro avg']['recall'])\n",
    "print(\"F1-score: \", report['micro avg']['f1-score'])\n",
    "print(\"*******************************************************************************\")"
   ]
  },
  {
   "cell_type": "code",
   "execution_count": null,
   "metadata": {
    "colab": {
     "base_uri": "https://localhost:8080/"
    },
    "id": "eiTFf5XNGeFa",
    "outputId": "7d9d2e58-563b-4f9e-8333-6ab474f01218"
   },
   "outputs": [
    {
     "name": "stderr",
     "output_type": "stream",
     "text": [
      "/usr/local/lib/python3.8/dist-packages/sklearn/metrics/_classification.py:1318: UndefinedMetricWarning: Precision and F-score are ill-defined and being set to 0.0 in samples with no predicted labels. Use `zero_division` parameter to control this behavior.\n",
      "  _warn_prf(average, modifier, msg_start, len(result))\n"
     ]
    },
    {
     "name": "stdout",
     "output_type": "stream",
     "text": [
      "Bagging\n",
      "Accuracy:  0.7807643847123058\n",
      "Precision:  0.9036697247706422\n",
      "Recall:  0.8176883780332056\n",
      "F1-score:  0.8585316795172645\n",
      "*******************************************************************************\n"
     ]
    },
    {
     "name": "stderr",
     "output_type": "stream",
     "text": [
      "/usr/local/lib/python3.8/dist-packages/sklearn/metrics/_classification.py:1318: UndefinedMetricWarning: Precision and F-score are ill-defined and being set to 0.0 in samples with no predicted labels. Use `zero_division` parameter to control this behavior.\n",
      "  _warn_prf(average, modifier, msg_start, len(result))\n"
     ]
    },
    {
     "name": "stdout",
     "output_type": "stream",
     "text": [
      "AdaBoost\n",
      "Accuracy:  0.7916841663166737\n",
      "Precision:  0.8998242530755711\n",
      "Recall:  0.8173690932311622\n",
      "F1-score:  0.8566170319558306\n",
      "*******************************************************************************\n"
     ]
    },
    {
     "name": "stderr",
     "output_type": "stream",
     "text": [
      "/usr/local/lib/python3.8/dist-packages/sklearn/metrics/_classification.py:1318: UndefinedMetricWarning: Precision and F-score are ill-defined and being set to 0.0 in samples with no predicted labels. Use `zero_division` parameter to control this behavior.\n",
      "  _warn_prf(average, modifier, msg_start, len(result))\n"
     ]
    },
    {
     "name": "stdout",
     "output_type": "stream",
     "text": [
      "NB\n",
      "Accuracy:  0.6421671566568669\n",
      "Precision:  0.832779623477298\n",
      "Recall:  0.7203065134099617\n",
      "F1-score:  0.7724704673857216\n",
      "*******************************************************************************\n"
     ]
    },
    {
     "name": "stderr",
     "output_type": "stream",
     "text": [
      "/usr/local/lib/python3.8/dist-packages/sklearn/metrics/_classification.py:1318: UndefinedMetricWarning: Precision and F-score are ill-defined and being set to 0.0 in samples with no predicted labels. Use `zero_division` parameter to control this behavior.\n",
      "  _warn_prf(average, modifier, msg_start, len(result))\n"
     ]
    },
    {
     "name": "stdout",
     "output_type": "stream",
     "text": [
      "RF\n",
      "Accuracy:  0.7929441411171777\n",
      "Precision:  0.9220968329086275\n",
      "Recall:  0.8087484035759898\n",
      "F1-score:  0.8617111753699609\n",
      "*******************************************************************************\n"
     ]
    },
    {
     "name": "stderr",
     "output_type": "stream",
     "text": [
      "/usr/local/lib/python3.8/dist-packages/sklearn/metrics/_classification.py:1318: UndefinedMetricWarning: Precision and F-score are ill-defined and being set to 0.0 in samples with no predicted labels. Use `zero_division` parameter to control this behavior.\n",
      "  _warn_prf(average, modifier, msg_start, len(result))\n"
     ]
    },
    {
     "name": "stdout",
     "output_type": "stream",
     "text": [
      "LR\n",
      "Accuracy:  0.6820663586728265\n",
      "Precision:  0.9317134478424801\n",
      "Recall:  0.7100893997445722\n",
      "F1-score:  0.8059431056350789\n",
      "*******************************************************************************\n",
      "SVC\n",
      "Accuracy:  0.8009239815203696\n",
      "Precision:  0.9233827249728949\n",
      "Recall:  0.815772669220945\n",
      "F1-score:  0.8662485166977454\n",
      "*******************************************************************************\n"
     ]
    },
    {
     "name": "stderr",
     "output_type": "stream",
     "text": [
      "/usr/local/lib/python3.8/dist-packages/sklearn/metrics/_classification.py:1318: UndefinedMetricWarning: Precision and F-score are ill-defined and being set to 0.0 in samples with no predicted labels. Use `zero_division` parameter to control this behavior.\n",
      "  _warn_prf(average, modifier, msg_start, len(result))\n"
     ]
    }
   ],
   "source": [
    "# Char 4\n",
    "# Create a pipeline with tfidf with N-char 4 and Bagging classifier using OneVsRestClassifier\n",
    "pipeline = Pipeline([\n",
    "               ('tfidf', TfidfVectorizer(analyzer='char',ngram_range=(4, 4), min_df= 2, max_df= 0.5)),\n",
    "                ('clf', OneVsRestClassifier(BaggingClassifier(n_jobs=-1))),\n",
    "            ])\n",
    "pipeline.fit(x_train, y_train) # fit the classifier with the training data\n",
    "predictions = pipeline.predict(x_test) # predict the labels of test dataset\n",
    "\n",
    "# pipeline evaluation:\n",
    "\n",
    "report = classification_report(y_test, predictions, output_dict=True)\n",
    "print(\"Bagging\")\n",
    "print(\"Accuracy: \", accuracy_score(y_test, predictions))\n",
    "print(\"Precision: \", report['micro avg']['precision'])\n",
    "print(\"Recall: \", report['micro avg']['recall'])\n",
    "print(\"F1-score: \", report['micro avg']['f1-score'])\n",
    "print(\"*******************************************************************************\")\n",
    "\n",
    "# Create a pipeline with tfidf with N-char 4 and AdaBoost classifier using OneVsRestClassifier\n",
    "pipeline = Pipeline([\n",
    "                ('tfidf', TfidfVectorizer(analyzer='char',ngram_range=(4, 4), min_df= 2, max_df= 0.5)),\n",
    "                ('clf', OneVsRestClassifier(AdaBoostClassifier(random_state=1))),\n",
    "            ])\n",
    "pipeline.fit(x_train, y_train) # fit the classifier with the training data\n",
    "predictions = pipeline.predict(x_test) # predict the labels of test dataset\n",
    "\n",
    "# pipeline evaluation:\n",
    "\n",
    "report = classification_report(y_test, predictions, output_dict=True)\n",
    "print(\"AdaBoost\")\n",
    "print(\"Accuracy: \", accuracy_score(y_test, predictions))\n",
    "print(\"Precision: \", report['micro avg']['precision'])\n",
    "print(\"Recall: \", report['micro avg']['recall'])\n",
    "print(\"F1-score: \", report['micro avg']['f1-score'])\n",
    "print(\"*******************************************************************************\")\n",
    "\n",
    "# Create a pipeline with tfidf with N-char 4 and NB classifier using OneVsRestClassifier\n",
    "pipeline = Pipeline([\n",
    "               ('tfidf', TfidfVectorizer(analyzer='char',ngram_range=(4, 4), min_df= 2, max_df= 0.5)),\n",
    "                ('clf', OneVsRestClassifier(MultinomialNB(fit_prior=False))),\n",
    "            ])\n",
    "pipeline.fit(x_train, y_train) # fit the classifier with the training data\n",
    "predictions = pipeline.predict(x_test) # predict the labels of test dataset\n",
    "\n",
    "# pipeline evaluation:\n",
    "\n",
    "report = classification_report(y_test, predictions, output_dict=True)\n",
    "print(\"NB\")\n",
    "print(\"Accuracy: \", accuracy_score(y_test, predictions))\n",
    "print(\"Precision: \", report['micro avg']['precision'])\n",
    "print(\"Recall: \", report['micro avg']['recall'])\n",
    "print(\"F1-score: \", report['micro avg']['f1-score'])\n",
    "print(\"*******************************************************************************\")\n",
    "\n",
    "# Create a pipeline with tfidf with N-char 4 and RF classifier using OneVsRestClassifier\n",
    "pipeline = Pipeline([\n",
    "              ('tfidf', TfidfVectorizer(analyzer='char',ngram_range=(4, 4), min_df= 2, max_df= 0.5)),\n",
    "                ('clf', OneVsRestClassifier(RandomForestClassifier(n_jobs=-1))),\n",
    "            ])\n",
    "pipeline.fit(x_train, y_train) # fit the classifier with the training data\n",
    "predictions = pipeline.predict(x_test) # predict the labels of test dataset\n",
    "\n",
    "# pipeline evaluation:\n",
    "\n",
    "report = classification_report(y_test, predictions, output_dict=True)\n",
    "print(\"RF\")\n",
    "print(\"Accuracy: \", accuracy_score(y_test, predictions))\n",
    "print(\"Precision: \", report['micro avg']['precision'])\n",
    "print(\"Recall: \", report['micro avg']['recall'])\n",
    "print(\"F1-score: \", report['micro avg']['f1-score'])\n",
    "print(\"*******************************************************************************\")\n",
    "\n",
    "# Create a pipeline with tfidf with N-char 4 and LR classifier using OneVsRestClassifier\n",
    "pipeline = Pipeline([\n",
    "                ('tfidf', TfidfVectorizer(analyzer='char',ngram_range=(4, 4), min_df= 2, max_df= 0.5)),\n",
    "                ('clf', OneVsRestClassifier(LogisticRegression(solver='sag'))),\n",
    "            ])\n",
    "pipeline.fit(x_train, y_train) # fit the classifier with the training data\n",
    "predictions = pipeline.predict(x_test) # predict the labels of test dataset\n",
    "\n",
    "# pipeline evaluation:\n",
    "\n",
    "report = classification_report(y_test, predictions, output_dict=True)\n",
    "print(\"LR\")\n",
    "print(\"Accuracy: \", accuracy_score(y_test, predictions))\n",
    "print(\"Precision: \", report['micro avg']['precision'])\n",
    "print(\"Recall: \", report['micro avg']['recall'])\n",
    "print(\"F1-score: \", report['micro avg']['f1-score'])\n",
    "print(\"*******************************************************************************\")\n",
    "\n",
    "# Create a pipeline with tfidf with N-char 4 and SVC classifier using OneVsRestClassifier\n",
    "pipeline = Pipeline([\n",
    "                ('tfidf', TfidfVectorizer(analyzer='char',ngram_range=(4, 4), min_df= 2, max_df= 0.5)),\n",
    "                ('clf', OneVsRestClassifier(LinearSVC())),\n",
    "            ])\n",
    "pipeline.fit(x_train, y_train) # fit the classifier with the training data\n",
    "predictions = pipeline.predict(x_test) # predict the labels of test dataset\n",
    "\n",
    "# pipeline evaluation:\n",
    "\n",
    "report = classification_report(y_test, predictions, output_dict=True)\n",
    "print(\"SVC\")\n",
    "print(\"Accuracy: \", accuracy_score(y_test, predictions))\n",
    "print(\"Precision: \", report['micro avg']['precision'])\n",
    "print(\"Recall: \", report['micro avg']['recall'])\n",
    "print(\"F1-score: \", report['micro avg']['f1-score'])\n",
    "print(\"*******************************************************************************\")"
   ]
  },
  {
   "cell_type": "code",
   "execution_count": null,
   "metadata": {
    "colab": {
     "base_uri": "https://localhost:8080/"
    },
    "id": "PcDqCNe1ILqs",
    "outputId": "d10a476e-d4e4-44ad-94db-5b5521c57f3d"
   },
   "outputs": [
    {
     "name": "stderr",
     "output_type": "stream",
     "text": [
      "/usr/local/lib/python3.8/dist-packages/sklearn/metrics/_classification.py:1318: UndefinedMetricWarning: Precision and F-score are ill-defined and being set to 0.0 in samples with no predicted labels. Use `zero_division` parameter to control this behavior.\n",
      "  _warn_prf(average, modifier, msg_start, len(result))\n"
     ]
    },
    {
     "name": "stdout",
     "output_type": "stream",
     "text": [
      "Bagging\n",
      "Accuracy:  0.7975640487190256\n",
      "Precision:  0.9076220583069898\n",
      "Recall:  0.8250319284802043\n",
      "F1-score:  0.8643585883927078\n",
      "*******************************************************************************\n"
     ]
    },
    {
     "name": "stderr",
     "output_type": "stream",
     "text": [
      "/usr/local/lib/python3.8/dist-packages/sklearn/metrics/_classification.py:1318: UndefinedMetricWarning: Precision and F-score are ill-defined and being set to 0.0 in samples with no predicted labels. Use `zero_division` parameter to control this behavior.\n",
      "  _warn_prf(average, modifier, msg_start, len(result))\n"
     ]
    },
    {
     "name": "stdout",
     "output_type": "stream",
     "text": [
      "AdaBoost\n",
      "Accuracy:  0.7942041159176817\n",
      "Precision:  0.9013986013986014\n",
      "Recall:  0.8231162196679438\n",
      "F1-score:  0.8604806408544727\n",
      "*******************************************************************************\n"
     ]
    },
    {
     "name": "stderr",
     "output_type": "stream",
     "text": [
      "/usr/local/lib/python3.8/dist-packages/sklearn/metrics/_classification.py:1318: UndefinedMetricWarning: Precision and F-score are ill-defined and being set to 0.0 in samples with no predicted labels. Use `zero_division` parameter to control this behavior.\n",
      "  _warn_prf(average, modifier, msg_start, len(result))\n"
     ]
    },
    {
     "name": "stdout",
     "output_type": "stream",
     "text": [
      "NB\n",
      "Accuracy:  0.7194456110877783\n",
      "Precision:  0.8167487684729065\n",
      "Recall:  0.7940613026819924\n",
      "F1-score:  0.805245264691598\n",
      "*******************************************************************************\n"
     ]
    },
    {
     "name": "stderr",
     "output_type": "stream",
     "text": [
      "/usr/local/lib/python3.8/dist-packages/sklearn/metrics/_classification.py:1318: UndefinedMetricWarning: Precision and F-score are ill-defined and being set to 0.0 in samples with no predicted labels. Use `zero_division` parameter to control this behavior.\n",
      "  _warn_prf(average, modifier, msg_start, len(result))\n"
     ]
    },
    {
     "name": "stdout",
     "output_type": "stream",
     "text": [
      "RF\n",
      "Accuracy:  0.8009239815203696\n",
      "Precision:  0.9148174659985684\n",
      "Recall:  0.8160919540229885\n",
      "F1-score:  0.8626392170097874\n",
      "*******************************************************************************\n"
     ]
    },
    {
     "name": "stderr",
     "output_type": "stream",
     "text": [
      "/usr/local/lib/python3.8/dist-packages/sklearn/metrics/_classification.py:1318: UndefinedMetricWarning: Precision and F-score are ill-defined and being set to 0.0 in samples with no predicted labels. Use `zero_division` parameter to control this behavior.\n",
      "  _warn_prf(average, modifier, msg_start, len(result))\n"
     ]
    },
    {
     "name": "stdout",
     "output_type": "stream",
     "text": [
      "LR\n",
      "Accuracy:  0.6694666106677867\n",
      "Precision:  0.926284751474305\n",
      "Recall:  0.7021072796934866\n",
      "F1-score:  0.7987649836541953\n",
      "*******************************************************************************\n",
      "SVC\n",
      "Accuracy:  0.8000839983200336\n",
      "Precision:  0.9193259232699893\n",
      "Recall:  0.8186462324393359\n",
      "F1-score:  0.8660699206215168\n",
      "*******************************************************************************\n"
     ]
    },
    {
     "name": "stderr",
     "output_type": "stream",
     "text": [
      "/usr/local/lib/python3.8/dist-packages/sklearn/metrics/_classification.py:1318: UndefinedMetricWarning: Precision and F-score are ill-defined and being set to 0.0 in samples with no predicted labels. Use `zero_division` parameter to control this behavior.\n",
      "  _warn_prf(average, modifier, msg_start, len(result))\n"
     ]
    }
   ],
   "source": [
    "# Char 5\n",
    "# Create a pipeline with tfidf with N-char 5 and Bagging classifier using OneVsRestClassifier\n",
    "pipeline = Pipeline([\n",
    "               ('tfidf', TfidfVectorizer(analyzer='char',ngram_range=(5, 5), min_df= 2, max_df= 0.5)),\n",
    "                ('clf', OneVsRestClassifier(BaggingClassifier(n_jobs=-1))),\n",
    "            ])\n",
    "pipeline.fit(x_train, y_train) # fit the classifier with the training data\n",
    "predictions = pipeline.predict(x_test) # predict the labels of test dataset\n",
    "\n",
    "# pipeline evaluation:\n",
    "\n",
    "report = classification_report(y_test, predictions, output_dict=True)\n",
    "print(\"Bagging\")\n",
    "print(\"Accuracy: \", accuracy_score(y_test, predictions))\n",
    "print(\"Precision: \", report['micro avg']['precision'])\n",
    "print(\"Recall: \", report['micro avg']['recall'])\n",
    "print(\"F1-score: \", report['micro avg']['f1-score'])\n",
    "print(\"*******************************************************************************\")\n",
    "\n",
    "# Create a pipeline with tfidf with N-char 5 and AdaBoost classifier using OneVsRestClassifier\n",
    "pipeline = Pipeline([\n",
    "                ('tfidf', TfidfVectorizer(analyzer='char',ngram_range=(5, 5), min_df= 2, max_df= 0.5)),\n",
    "                ('clf', OneVsRestClassifier(AdaBoostClassifier(random_state=1))),\n",
    "            ])\n",
    "pipeline.fit(x_train, y_train) # fit the classifier with the training data\n",
    "predictions = pipeline.predict(x_test) # predict the labels of test dataset\n",
    "\n",
    "# pipeline evaluation:\n",
    "\n",
    "report = classification_report(y_test, predictions, output_dict=True)\n",
    "print(\"AdaBoost\")\n",
    "print(\"Accuracy: \", accuracy_score(y_test, predictions))\n",
    "print(\"Precision: \", report['micro avg']['precision'])\n",
    "print(\"Recall: \", report['micro avg']['recall'])\n",
    "print(\"F1-score: \", report['micro avg']['f1-score'])\n",
    "print(\"*******************************************************************************\")\n",
    "\n",
    "# Create a pipeline with tfidf with N-char 5 and NB classifier using OneVsRestClassifier\n",
    "pipeline = Pipeline([\n",
    "               ('tfidf', TfidfVectorizer(analyzer='char',ngram_range=(5, 5), min_df= 2, max_df= 0.5)),\n",
    "                ('clf', OneVsRestClassifier(MultinomialNB(fit_prior=False))),\n",
    "            ])\n",
    "pipeline.fit(x_train, y_train) # fit the classifier with the training data\n",
    "predictions = pipeline.predict(x_test) # predict the labels of test dataset\n",
    "\n",
    "# pipeline evaluation:\n",
    "\n",
    "report = classification_report(y_test, predictions, output_dict=True)\n",
    "print(\"NB\")\n",
    "print(\"Accuracy: \", accuracy_score(y_test, predictions))\n",
    "print(\"Precision: \", report['micro avg']['precision'])\n",
    "print(\"Recall: \", report['micro avg']['recall'])\n",
    "print(\"F1-score: \", report['micro avg']['f1-score'])\n",
    "print(\"*******************************************************************************\")\n",
    "\n",
    "# Create a pipeline with tfidf with N-char 5 and RF classifier using OneVsRestClassifier\n",
    "pipeline = Pipeline([\n",
    "              ('tfidf', TfidfVectorizer(analyzer='char',ngram_range=(5, 5), min_df= 2, max_df= 0.5)),\n",
    "                ('clf', OneVsRestClassifier(RandomForestClassifier(n_jobs=-1))),\n",
    "            ])\n",
    "pipeline.fit(x_train, y_train) # fit the classifier with the training data\n",
    "predictions = pipeline.predict(x_test) # predict the labels of test dataset\n",
    "\n",
    "# pipeline evaluation:\n",
    "\n",
    "report = classification_report(y_test, predictions, output_dict=True)\n",
    "print(\"RF\")\n",
    "print(\"Accuracy: \", accuracy_score(y_test, predictions))\n",
    "print(\"Precision: \", report['micro avg']['precision'])\n",
    "print(\"Recall: \", report['micro avg']['recall'])\n",
    "print(\"F1-score: \", report['micro avg']['f1-score'])\n",
    "print(\"*******************************************************************************\")\n",
    "\n",
    "# Create a pipeline with tfidf with N-char 5 and LR classifier using OneVsRestClassifier\n",
    "pipeline = Pipeline([\n",
    "                ('tfidf', TfidfVectorizer(analyzer='char',ngram_range=(5, 5), min_df= 2, max_df= 0.5)),\n",
    "                ('clf', OneVsRestClassifier(LogisticRegression(solver='sag'))),\n",
    "            ])\n",
    "pipeline.fit(x_train, y_train) # fit the classifier with the training data\n",
    "predictions = pipeline.predict(x_test) # predict the labels of test dataset\n",
    "\n",
    "# pipeline evaluation:\n",
    "\n",
    "report = classification_report(y_test, predictions, output_dict=True)\n",
    "print(\"LR\")\n",
    "print(\"Accuracy: \", accuracy_score(y_test, predictions))\n",
    "print(\"Precision: \", report['micro avg']['precision'])\n",
    "print(\"Recall: \", report['micro avg']['recall'])\n",
    "print(\"F1-score: \", report['micro avg']['f1-score'])\n",
    "print(\"*******************************************************************************\")\n",
    "\n",
    "# Create a pipeline with tfidf with N-char 5 and SVC classifier using OneVsRestClassifier\n",
    "pipeline = Pipeline([\n",
    "                ('tfidf', TfidfVectorizer(analyzer='char',ngram_range=(5, 5), min_df= 2, max_df= 0.5)),\n",
    "                ('clf', OneVsRestClassifier(LinearSVC())),\n",
    "            ])\n",
    "pipeline.fit(x_train, y_train) # fit the classifier with the training data\n",
    "predictions = pipeline.predict(x_test) # predict the labels of test dataset\n",
    "\n",
    "# pipeline evaluation:\n",
    "\n",
    "report = classification_report(y_test, predictions, output_dict=True)\n",
    "print(\"SVC\")\n",
    "print(\"Accuracy: \", accuracy_score(y_test, predictions))\n",
    "print(\"Precision: \", report['micro avg']['precision'])\n",
    "print(\"Recall: \", report['micro avg']['recall'])\n",
    "print(\"F1-score: \", report['micro avg']['f1-score'])\n",
    "print(\"*******************************************************************************\")"
   ]
  },
  {
   "cell_type": "code",
   "execution_count": null,
   "metadata": {
    "colab": {
     "base_uri": "https://localhost:8080/"
    },
    "id": "8VsHlzLLIny4",
    "outputId": "06ee821a-6980-4592-f10b-c6017bbbb384"
   },
   "outputs": [
    {
     "name": "stderr",
     "output_type": "stream",
     "text": [
      "/usr/local/lib/python3.8/dist-packages/sklearn/metrics/_classification.py:1318: UndefinedMetricWarning: Precision and F-score are ill-defined and being set to 0.0 in samples with no predicted labels. Use `zero_division` parameter to control this behavior.\n",
      "  _warn_prf(average, modifier, msg_start, len(result))\n"
     ]
    },
    {
     "name": "stdout",
     "output_type": "stream",
     "text": [
      "Bagging\n",
      "Accuracy:  0.7879042419151617\n",
      "Precision:  0.898186889818689\n",
      "Recall:  0.822477650063857\n",
      "F1-score:  0.8586666666666667\n",
      "*******************************************************************************\n"
     ]
    },
    {
     "name": "stderr",
     "output_type": "stream",
     "text": [
      "/usr/local/lib/python3.8/dist-packages/sklearn/metrics/_classification.py:1318: UndefinedMetricWarning: Precision and F-score are ill-defined and being set to 0.0 in samples with no predicted labels. Use `zero_division` parameter to control this behavior.\n",
      "  _warn_prf(average, modifier, msg_start, len(result))\n"
     ]
    },
    {
     "name": "stdout",
     "output_type": "stream",
     "text": [
      "AdaBoost\n",
      "Accuracy:  0.7736245275094498\n",
      "Precision:  0.9258443465491923\n",
      "Recall:  0.8052362707535121\n",
      "F1-score:  0.8613387978142076\n",
      "*******************************************************************************\n"
     ]
    },
    {
     "name": "stderr",
     "output_type": "stream",
     "text": [
      "/usr/local/lib/python3.8/dist-packages/sklearn/metrics/_classification.py:1318: UndefinedMetricWarning: Precision and F-score are ill-defined and being set to 0.0 in samples with no predicted labels. Use `zero_division` parameter to control this behavior.\n",
      "  _warn_prf(average, modifier, msg_start, len(result))\n"
     ]
    },
    {
     "name": "stdout",
     "output_type": "stream",
     "text": [
      "NB\n",
      "Accuracy:  0.7614447711045779\n",
      "Precision:  0.799396681749623\n",
      "Recall:  0.8461047254150702\n",
      "F1-score:  0.8220877927718319\n",
      "*******************************************************************************\n"
     ]
    },
    {
     "name": "stderr",
     "output_type": "stream",
     "text": [
      "/usr/local/lib/python3.8/dist-packages/sklearn/metrics/_classification.py:1318: UndefinedMetricWarning: Precision and F-score are ill-defined and being set to 0.0 in samples with no predicted labels. Use `zero_division` parameter to control this behavior.\n",
      "  _warn_prf(average, modifier, msg_start, len(result))\n"
     ]
    },
    {
     "name": "stdout",
     "output_type": "stream",
     "text": [
      "RF\n",
      "Accuracy:  0.7937841243175137\n",
      "Precision:  0.9022316684378321\n",
      "Recall:  0.8132183908045977\n",
      "F1-score:  0.8554156171284635\n",
      "*******************************************************************************\n"
     ]
    },
    {
     "name": "stderr",
     "output_type": "stream",
     "text": [
      "/usr/local/lib/python3.8/dist-packages/sklearn/metrics/_classification.py:1318: UndefinedMetricWarning: Precision and F-score are ill-defined and being set to 0.0 in samples with no predicted labels. Use `zero_division` parameter to control this behavior.\n",
      "  _warn_prf(average, modifier, msg_start, len(result))\n"
     ]
    },
    {
     "name": "stdout",
     "output_type": "stream",
     "text": [
      "LR\n",
      "Accuracy:  0.6812263754724905\n",
      "Precision:  0.9240610813041684\n",
      "Recall:  0.7148786717752235\n",
      "F1-score:  0.806120612061206\n",
      "*******************************************************************************\n",
      "SVC\n",
      "Accuracy:  0.7984040319193616\n",
      "Precision:  0.917680744452398\n",
      "Recall:  0.8186462324393359\n",
      "F1-score:  0.8653391832602093\n",
      "*******************************************************************************\n"
     ]
    },
    {
     "name": "stderr",
     "output_type": "stream",
     "text": [
      "/usr/local/lib/python3.8/dist-packages/sklearn/metrics/_classification.py:1318: UndefinedMetricWarning: Precision and F-score are ill-defined and being set to 0.0 in samples with no predicted labels. Use `zero_division` parameter to control this behavior.\n",
      "  _warn_prf(average, modifier, msg_start, len(result))\n"
     ]
    }
   ],
   "source": [
    "# Char 6\n",
    "# Create a pipeline with tfidf with N-char 6 and Bagging classifier using OneVsRestClassifier\n",
    "pipeline = Pipeline([\n",
    "               ('tfidf', TfidfVectorizer(analyzer='char',ngram_range=(6, 6), min_df= 2, max_df= 0.5)),\n",
    "                ('clf', OneVsRestClassifier(BaggingClassifier(n_jobs=-1))),\n",
    "            ])\n",
    "pipeline.fit(x_train, y_train) # fit the classifier with the training data\n",
    "predictions = pipeline.predict(x_test) # predict the labels of test dataset\n",
    "\n",
    "# pipeline evaluation:\n",
    "\n",
    "report = classification_report(y_test, predictions, output_dict=True)\n",
    "print(\"Bagging\")\n",
    "print(\"Accuracy: \", accuracy_score(y_test, predictions))\n",
    "print(\"Precision: \", report['micro avg']['precision'])\n",
    "print(\"Recall: \", report['micro avg']['recall'])\n",
    "print(\"F1-score: \", report['micro avg']['f1-score'])\n",
    "print(\"*******************************************************************************\")\n",
    "\n",
    "# Create a pipeline with tfidf with N-char 6 and AdaBoost classifier using OneVsRestClassifier\n",
    "pipeline = Pipeline([\n",
    "                ('tfidf', TfidfVectorizer(analyzer='char',ngram_range=(6, 6), min_df= 2, max_df= 0.5)),\n",
    "                ('clf', OneVsRestClassifier(AdaBoostClassifier(random_state=1))),\n",
    "            ])\n",
    "pipeline.fit(x_train, y_train) # fit the classifier with the training data\n",
    "predictions = pipeline.predict(x_test) # predict the labels of test dataset\n",
    "\n",
    "# pipeline evaluation:\n",
    "\n",
    "report = classification_report(y_test, predictions, output_dict=True)\n",
    "print(\"AdaBoost\")\n",
    "print(\"Accuracy: \", accuracy_score(y_test, predictions))\n",
    "print(\"Precision: \", report['micro avg']['precision'])\n",
    "print(\"Recall: \", report['micro avg']['recall'])\n",
    "print(\"F1-score: \", report['micro avg']['f1-score'])\n",
    "print(\"*******************************************************************************\")\n",
    "\n",
    "# Create a pipeline with tfidf with N-char 6 and NB classifier using OneVsRestClassifier\n",
    "pipeline = Pipeline([\n",
    "               ('tfidf', TfidfVectorizer(analyzer='char',ngram_range=(6, 6), min_df= 2, max_df= 0.5)),\n",
    "                ('clf', OneVsRestClassifier(MultinomialNB(fit_prior=False))),\n",
    "            ])\n",
    "pipeline.fit(x_train, y_train) # fit the classifier with the training data\n",
    "predictions = pipeline.predict(x_test) # predict the labels of test dataset\n",
    "\n",
    "# pipeline evaluation:\n",
    "\n",
    "report = classification_report(y_test, predictions, output_dict=True)\n",
    "print(\"NB\")\n",
    "print(\"Accuracy: \", accuracy_score(y_test, predictions))\n",
    "print(\"Precision: \", report['micro avg']['precision'])\n",
    "print(\"Recall: \", report['micro avg']['recall'])\n",
    "print(\"F1-score: \", report['micro avg']['f1-score'])\n",
    "print(\"*******************************************************************************\")\n",
    "\n",
    "# Create a pipeline with tfidf with N-char 6 and RF classifier using OneVsRestClassifier\n",
    "pipeline = Pipeline([\n",
    "              ('tfidf', TfidfVectorizer(analyzer='char',ngram_range=(6, 6), min_df= 2, max_df= 0.5)),\n",
    "                ('clf', OneVsRestClassifier(RandomForestClassifier(n_jobs=-1))),\n",
    "            ])\n",
    "pipeline.fit(x_train, y_train) # fit the classifier with the training data\n",
    "predictions = pipeline.predict(x_test) # predict the labels of test dataset\n",
    "\n",
    "# pipeline evaluation:\n",
    "\n",
    "report = classification_report(y_test, predictions, output_dict=True)\n",
    "print(\"RF\")\n",
    "print(\"Accuracy: \", accuracy_score(y_test, predictions))\n",
    "print(\"Precision: \", report['micro avg']['precision'])\n",
    "print(\"Recall: \", report['micro avg']['recall'])\n",
    "print(\"F1-score: \", report['micro avg']['f1-score'])\n",
    "print(\"*******************************************************************************\")\n",
    "\n",
    "# Create a pipeline with tfidf with N-char 6 and LR classifier using OneVsRestClassifier\n",
    "pipeline = Pipeline([\n",
    "                ('tfidf', TfidfVectorizer(analyzer='char',ngram_range=(6, 6), min_df= 2, max_df= 0.5)),\n",
    "                ('clf', OneVsRestClassifier(LogisticRegression(solver='sag'))),\n",
    "            ])\n",
    "pipeline.fit(x_train, y_train) # fit the classifier with the training data\n",
    "predictions = pipeline.predict(x_test) # predict the labels of test dataset\n",
    "\n",
    "# pipeline evaluation:\n",
    "\n",
    "report = classification_report(y_test, predictions, output_dict=True)\n",
    "print(\"LR\")\n",
    "print(\"Accuracy: \", accuracy_score(y_test, predictions))\n",
    "print(\"Precision: \", report['micro avg']['precision'])\n",
    "print(\"Recall: \", report['micro avg']['recall'])\n",
    "print(\"F1-score: \", report['micro avg']['f1-score'])\n",
    "print(\"*******************************************************************************\")\n",
    "\n",
    "# Create a pipeline with tfidf with N-char 6 and SVC classifier using OneVsRestClassifier\n",
    "pipeline = Pipeline([\n",
    "                ('tfidf', TfidfVectorizer(analyzer='char',ngram_range=(6, 6), min_df= 2, max_df= 0.5)),\n",
    "                ('clf', OneVsRestClassifier(LinearSVC())),\n",
    "            ])\n",
    "pipeline.fit(x_train, y_train) # fit the classifier with the training data\n",
    "predictions = pipeline.predict(x_test) # predict the labels of test dataset\n",
    "\n",
    "# pipeline evaluation:\n",
    "\n",
    "report = classification_report(y_test, predictions, output_dict=True)\n",
    "print(\"SVC\")\n",
    "print(\"Accuracy: \", accuracy_score(y_test, predictions))\n",
    "print(\"Precision: \", report['micro avg']['precision'])\n",
    "print(\"Recall: \", report['micro avg']['recall'])\n",
    "print(\"F1-score: \", report['micro avg']['f1-score'])\n",
    "print(\"*******************************************************************************\")"
   ]
  },
  {
   "cell_type": "code",
   "execution_count": null,
   "metadata": {
    "colab": {
     "base_uri": "https://localhost:8080/"
    },
    "id": "9Hj619_JI3fW",
    "outputId": "f4219e11-8ace-4965-8d20-4b4f44577241"
   },
   "outputs": [
    {
     "name": "stderr",
     "output_type": "stream",
     "text": [
      "/usr/local/lib/python3.8/dist-packages/sklearn/metrics/_classification.py:1318: UndefinedMetricWarning: Precision and F-score are ill-defined and being set to 0.0 in samples with no predicted labels. Use `zero_division` parameter to control this behavior.\n",
      "  _warn_prf(average, modifier, msg_start, len(result))\n"
     ]
    },
    {
     "name": "stdout",
     "output_type": "stream",
     "text": [
      "Bagging\n",
      "Accuracy:  0.7795044099118018\n",
      "Precision:  0.9060378706680957\n",
      "Recall:  0.80970625798212\n",
      "F1-score:  0.8551677626032709\n",
      "*******************************************************************************\n"
     ]
    },
    {
     "name": "stderr",
     "output_type": "stream",
     "text": [
      "/usr/local/lib/python3.8/dist-packages/sklearn/metrics/_classification.py:1318: UndefinedMetricWarning: Precision and F-score are ill-defined and being set to 0.0 in samples with no predicted labels. Use `zero_division` parameter to control this behavior.\n",
      "  _warn_prf(average, modifier, msg_start, len(result))\n"
     ]
    },
    {
     "name": "stdout",
     "output_type": "stream",
     "text": [
      "AdaBoost\n",
      "Accuracy:  0.7849643007139857\n",
      "Precision:  0.9072609633357297\n",
      "Recall:  0.8058748403575989\n",
      "F1-score:  0.853567805207981\n",
      "*******************************************************************************\n"
     ]
    },
    {
     "name": "stderr",
     "output_type": "stream",
     "text": [
      "/usr/local/lib/python3.8/dist-packages/sklearn/metrics/_classification.py:1318: UndefinedMetricWarning: Precision and F-score are ill-defined and being set to 0.0 in samples with no predicted labels. Use `zero_division` parameter to control this behavior.\n",
      "  _warn_prf(average, modifier, msg_start, len(result))\n"
     ]
    },
    {
     "name": "stdout",
     "output_type": "stream",
     "text": [
      "NB\n",
      "Accuracy:  0.751784964300714\n",
      "Precision:  0.7445934848070079\n",
      "Recall:  0.8684546615581098\n",
      "F1-score:  0.8017686072218128\n",
      "*******************************************************************************\n"
     ]
    },
    {
     "name": "stderr",
     "output_type": "stream",
     "text": [
      "/usr/local/lib/python3.8/dist-packages/sklearn/metrics/_classification.py:1318: UndefinedMetricWarning: Precision and F-score are ill-defined and being set to 0.0 in samples with no predicted labels. Use `zero_division` parameter to control this behavior.\n",
      "  _warn_prf(average, modifier, msg_start, len(result))\n"
     ]
    },
    {
     "name": "stdout",
     "output_type": "stream",
     "text": [
      "RF\n",
      "Accuracy:  0.7895842083158336\n",
      "Precision:  0.9149855907780979\n",
      "Recall:  0.8109833971902938\n",
      "F1-score:  0.8598510494245092\n",
      "*******************************************************************************\n"
     ]
    },
    {
     "name": "stderr",
     "output_type": "stream",
     "text": [
      "/usr/local/lib/python3.8/dist-packages/sklearn/metrics/_classification.py:1318: UndefinedMetricWarning: Precision and F-score are ill-defined and being set to 0.0 in samples with no predicted labels. Use `zero_division` parameter to control this behavior.\n",
      "  _warn_prf(average, modifier, msg_start, len(result))\n"
     ]
    },
    {
     "name": "stdout",
     "output_type": "stream",
     "text": [
      "LR\n",
      "Accuracy:  0.6686266274674506\n",
      "Precision:  0.9237894736842105\n",
      "Recall:  0.7005108556832694\n",
      "F1-score:  0.7968040675503903\n",
      "*******************************************************************************\n",
      "SVC\n",
      "Accuracy:  0.7862242755144897\n",
      "Precision:  0.915728296403923\n",
      "Recall:  0.8049169859514687\n",
      "F1-score:  0.8567544604927781\n",
      "*******************************************************************************\n"
     ]
    },
    {
     "name": "stderr",
     "output_type": "stream",
     "text": [
      "/usr/local/lib/python3.8/dist-packages/sklearn/metrics/_classification.py:1318: UndefinedMetricWarning: Precision and F-score are ill-defined and being set to 0.0 in samples with no predicted labels. Use `zero_division` parameter to control this behavior.\n",
      "  _warn_prf(average, modifier, msg_start, len(result))\n"
     ]
    }
   ],
   "source": [
    "# Char 7\n",
    "# Create a pipeline with tfidf with N-char 7 and Bagging classifier using OneVsRestClassifier\n",
    "pipeline = Pipeline([\n",
    "               ('tfidf', TfidfVectorizer(analyzer='char',ngram_range=(7, 7), min_df= 2, max_df= 0.5)),\n",
    "                ('clf', OneVsRestClassifier(BaggingClassifier(n_jobs=-1))),\n",
    "            ])\n",
    "pipeline.fit(x_train, y_train) # fit the classifier with the training data\n",
    "predictions = pipeline.predict(x_test) # predict the labels of test dataset\n",
    "\n",
    "# pipeline evaluation:\n",
    "\n",
    "report = classification_report(y_test, predictions, output_dict=True)\n",
    "print(\"Bagging\")\n",
    "print(\"Accuracy: \", accuracy_score(y_test, predictions))\n",
    "print(\"Precision: \", report['micro avg']['precision'])\n",
    "print(\"Recall: \", report['micro avg']['recall'])\n",
    "print(\"F1-score: \", report['micro avg']['f1-score'])\n",
    "print(\"*******************************************************************************\")\n",
    "\n",
    "# Create a pipeline with tfidf with N-char 7 and AdaBoost classifier using OneVsRestClassifier\n",
    "pipeline = Pipeline([\n",
    "                ('tfidf', TfidfVectorizer(analyzer='char',ngram_range=(7, 7), min_df= 2, max_df= 0.5)),\n",
    "                ('clf', OneVsRestClassifier(AdaBoostClassifier(random_state=1))),\n",
    "            ])\n",
    "pipeline.fit(x_train, y_train) # fit the classifier with the training data\n",
    "predictions = pipeline.predict(x_test) # predict the labels of test dataset\n",
    "\n",
    "# pipeline evaluation:\n",
    "\n",
    "report = classification_report(y_test, predictions, output_dict=True)\n",
    "print(\"AdaBoost\")\n",
    "print(\"Accuracy: \", accuracy_score(y_test, predictions))\n",
    "print(\"Precision: \", report['micro avg']['precision'])\n",
    "print(\"Recall: \", report['micro avg']['recall'])\n",
    "print(\"F1-score: \", report['micro avg']['f1-score'])\n",
    "print(\"*******************************************************************************\")\n",
    "\n",
    "# Create a pipeline with tfidf with N-char 7 and NB classifier using OneVsRestClassifier\n",
    "pipeline = Pipeline([\n",
    "               ('tfidf', TfidfVectorizer(analyzer='char',ngram_range=(7, 7), min_df= 2, max_df= 0.5)),\n",
    "                ('clf', OneVsRestClassifier(MultinomialNB(fit_prior=False))),\n",
    "            ])\n",
    "pipeline.fit(x_train, y_train) # fit the classifier with the training data\n",
    "predictions = pipeline.predict(x_test) # predict the labels of test dataset\n",
    "\n",
    "# pipeline evaluation:\n",
    "\n",
    "report = classification_report(y_test, predictions, output_dict=True)\n",
    "print(\"NB\")\n",
    "print(\"Accuracy: \", accuracy_score(y_test, predictions))\n",
    "print(\"Precision: \", report['micro avg']['precision'])\n",
    "print(\"Recall: \", report['micro avg']['recall'])\n",
    "print(\"F1-score: \", report['micro avg']['f1-score'])\n",
    "print(\"*******************************************************************************\")\n",
    "\n",
    "# Create a pipeline with tfidf with N-char 7 and RF classifier using OneVsRestClassifier\n",
    "pipeline = Pipeline([\n",
    "              ('tfidf', TfidfVectorizer(analyzer='char',ngram_range=(7, 7), min_df= 2, max_df= 0.5)),\n",
    "                ('clf', OneVsRestClassifier(RandomForestClassifier(n_jobs=-1))),\n",
    "            ])\n",
    "pipeline.fit(x_train, y_train) # fit the classifier with the training data\n",
    "predictions = pipeline.predict(x_test) # predict the labels of test dataset\n",
    "\n",
    "# pipeline evaluation:\n",
    "\n",
    "report = classification_report(y_test, predictions, output_dict=True)\n",
    "print(\"RF\")\n",
    "print(\"Accuracy: \", accuracy_score(y_test, predictions))\n",
    "print(\"Precision: \", report['micro avg']['precision'])\n",
    "print(\"Recall: \", report['micro avg']['recall'])\n",
    "print(\"F1-score: \", report['micro avg']['f1-score'])\n",
    "print(\"*******************************************************************************\")\n",
    "\n",
    "# Create a pipeline with tfidf with N-char 7 and LR classifier using OneVsRestClassifier\n",
    "pipeline = Pipeline([\n",
    "                ('tfidf', TfidfVectorizer(analyzer='char',ngram_range=(7, 7), min_df= 2, max_df= 0.5)),\n",
    "                ('clf', OneVsRestClassifier(LogisticRegression(solver='sag'))),\n",
    "            ])\n",
    "pipeline.fit(x_train, y_train) # fit the classifier with the training data\n",
    "predictions = pipeline.predict(x_test) # predict the labels of test dataset\n",
    "\n",
    "# pipeline evaluation:\n",
    "\n",
    "report = classification_report(y_test, predictions, output_dict=True)\n",
    "print(\"LR\")\n",
    "print(\"Accuracy: \", accuracy_score(y_test, predictions))\n",
    "print(\"Precision: \", report['micro avg']['precision'])\n",
    "print(\"Recall: \", report['micro avg']['recall'])\n",
    "print(\"F1-score: \", report['micro avg']['f1-score'])\n",
    "print(\"*******************************************************************************\")\n",
    "\n",
    "# Create a pipeline with tfidf with N-char 7 and SVC classifier using OneVsRestClassifier\n",
    "pipeline = Pipeline([\n",
    "                ('tfidf', TfidfVectorizer(analyzer='char',ngram_range=(7, 7), min_df= 2, max_df= 0.5)),\n",
    "                ('clf', OneVsRestClassifier(LinearSVC())),\n",
    "            ])\n",
    "pipeline.fit(x_train, y_train) # fit the classifier with the training data\n",
    "predictions = pipeline.predict(x_test) # predict the labels of test dataset\n",
    "\n",
    "# pipeline evaluation:\n",
    "\n",
    "report = classification_report(y_test, predictions, output_dict=True)\n",
    "print(\"SVC\")\n",
    "print(\"Accuracy: \", accuracy_score(y_test, predictions))\n",
    "print(\"Precision: \", report['micro avg']['precision'])\n",
    "print(\"Recall: \", report['micro avg']['recall'])\n",
    "print(\"F1-score: \", report['micro avg']['f1-score'])\n",
    "print(\"*******************************************************************************\")"
   ]
  },
  {
   "cell_type": "code",
   "execution_count": null,
   "metadata": {
    "colab": {
     "base_uri": "https://localhost:8080/"
    },
    "id": "XWW9NbuiJGtB",
    "outputId": "6a2a8d1e-ce5a-4954-eaf7-39ce542c97a4"
   },
   "outputs": [
    {
     "name": "stderr",
     "output_type": "stream",
     "text": [
      "/usr/local/lib/python3.8/dist-packages/sklearn/metrics/_classification.py:1318: UndefinedMetricWarning: Precision and F-score are ill-defined and being set to 0.0 in samples with no predicted labels. Use `zero_division` parameter to control this behavior.\n",
      "  _warn_prf(average, modifier, msg_start, len(result))\n"
     ]
    },
    {
     "name": "stdout",
     "output_type": "stream",
     "text": [
      "Bagging\n",
      "Accuracy:  0.7417051658966821\n",
      "Precision:  0.8937339684866251\n",
      "Recall:  0.7787356321839081\n",
      "F1-score:  0.8322811806858896\n",
      "*******************************************************************************\n"
     ]
    },
    {
     "name": "stderr",
     "output_type": "stream",
     "text": [
      "/usr/local/lib/python3.8/dist-packages/sklearn/metrics/_classification.py:1318: UndefinedMetricWarning: Precision and F-score are ill-defined and being set to 0.0 in samples with no predicted labels. Use `zero_division` parameter to control this behavior.\n",
      "  _warn_prf(average, modifier, msg_start, len(result))\n"
     ]
    },
    {
     "name": "stdout",
     "output_type": "stream",
     "text": [
      "AdaBoost\n",
      "Accuracy:  0.7383452330953381\n",
      "Precision:  0.9170204554226168\n",
      "Recall:  0.7586206896551724\n",
      "F1-score:  0.8303337410449065\n",
      "*******************************************************************************\n"
     ]
    },
    {
     "name": "stderr",
     "output_type": "stream",
     "text": [
      "/usr/local/lib/python3.8/dist-packages/sklearn/metrics/_classification.py:1318: UndefinedMetricWarning: Precision and F-score are ill-defined and being set to 0.0 in samples with no predicted labels. Use `zero_division` parameter to control this behavior.\n",
      "  _warn_prf(average, modifier, msg_start, len(result))\n"
     ]
    },
    {
     "name": "stdout",
     "output_type": "stream",
     "text": [
      "NB\n",
      "Accuracy:  0.7202855942881142\n",
      "Precision:  0.6742871189773845\n",
      "Recall:  0.8757982120051085\n",
      "F1-score:  0.7619444444444444\n",
      "*******************************************************************************\n"
     ]
    },
    {
     "name": "stderr",
     "output_type": "stream",
     "text": [
      "/usr/local/lib/python3.8/dist-packages/sklearn/metrics/_classification.py:1318: UndefinedMetricWarning: Precision and F-score are ill-defined and being set to 0.0 in samples with no predicted labels. Use `zero_division` parameter to control this behavior.\n",
      "  _warn_prf(average, modifier, msg_start, len(result))\n"
     ]
    },
    {
     "name": "stdout",
     "output_type": "stream",
     "text": [
      "RF\n",
      "Accuracy:  0.75052498950021\n",
      "Precision:  0.9100074682598954\n",
      "Recall:  0.7780970625798213\n",
      "F1-score:  0.8388984509466437\n",
      "*******************************************************************************\n"
     ]
    },
    {
     "name": "stderr",
     "output_type": "stream",
     "text": [
      "/usr/local/lib/python3.8/dist-packages/sklearn/metrics/_classification.py:1318: UndefinedMetricWarning: Precision and F-score are ill-defined and being set to 0.0 in samples with no predicted labels. Use `zero_division` parameter to control this behavior.\n",
      "  _warn_prf(average, modifier, msg_start, len(result))\n"
     ]
    },
    {
     "name": "stdout",
     "output_type": "stream",
     "text": [
      "LR\n",
      "Accuracy:  0.619907601847963\n",
      "Precision:  0.9226943942133815\n",
      "Recall:  0.6516602809706258\n",
      "F1-score:  0.7638473053892214\n",
      "*******************************************************************************\n",
      "SVC\n",
      "Accuracy:  0.7568248635027299\n",
      "Precision:  0.9094311377245509\n",
      "Recall:  0.7758620689655172\n",
      "F1-score:  0.8373535492763612\n",
      "*******************************************************************************\n"
     ]
    },
    {
     "name": "stderr",
     "output_type": "stream",
     "text": [
      "/usr/local/lib/python3.8/dist-packages/sklearn/metrics/_classification.py:1318: UndefinedMetricWarning: Precision and F-score are ill-defined and being set to 0.0 in samples with no predicted labels. Use `zero_division` parameter to control this behavior.\n",
      "  _warn_prf(average, modifier, msg_start, len(result))\n"
     ]
    }
   ],
   "source": [
    "# Char 8\n",
    "# Create a pipeline with tfidf with N-char 8 and Bagging classifier using OneVsRestClassifier\n",
    "pipeline = Pipeline([\n",
    "               ('tfidf', TfidfVectorizer(analyzer='char',ngram_range=(8, 8), min_df= 2, max_df= 0.5)),\n",
    "                ('clf', OneVsRestClassifier(BaggingClassifier(n_jobs=-1))),\n",
    "            ])\n",
    "pipeline.fit(x_train, y_train) # fit the classifier with the training data\n",
    "predictions = pipeline.predict(x_test) # predict the labels of test dataset\n",
    "\n",
    "# pipeline evaluation:\n",
    "\n",
    "report = classification_report(y_test, predictions, output_dict=True)\n",
    "print(\"Bagging\")\n",
    "print(\"Accuracy: \", accuracy_score(y_test, predictions))\n",
    "print(\"Precision: \", report['micro avg']['precision'])\n",
    "print(\"Recall: \", report['micro avg']['recall'])\n",
    "print(\"F1-score: \", report['micro avg']['f1-score'])\n",
    "print(\"*******************************************************************************\")\n",
    "\n",
    "# Create a pipeline with tfidf with N-char 8 and AdaBoost classifier using OneVsRestClassifier\n",
    "pipeline = Pipeline([\n",
    "                ('tfidf', TfidfVectorizer(analyzer='char',ngram_range=(8, 8), min_df= 2, max_df= 0.5)),\n",
    "                ('clf', OneVsRestClassifier(AdaBoostClassifier(random_state=1))),\n",
    "            ])\n",
    "pipeline.fit(x_train, y_train) # fit the classifier with the training data\n",
    "predictions = pipeline.predict(x_test) # predict the labels of test dataset\n",
    "\n",
    "# pipeline evaluation:\n",
    "\n",
    "report = classification_report(y_test, predictions, output_dict=True)\n",
    "print(\"AdaBoost\")\n",
    "print(\"Accuracy: \", accuracy_score(y_test, predictions))\n",
    "print(\"Precision: \", report['micro avg']['precision'])\n",
    "print(\"Recall: \", report['micro avg']['recall'])\n",
    "print(\"F1-score: \", report['micro avg']['f1-score'])\n",
    "print(\"*******************************************************************************\")\n",
    "\n",
    "# Create a pipeline with tfidf with N-char 8 and NB classifier using OneVsRestClassifier\n",
    "pipeline = Pipeline([\n",
    "               ('tfidf', TfidfVectorizer(analyzer='char',ngram_range=(8, 8), min_df= 2, max_df= 0.5)),\n",
    "                ('clf', OneVsRestClassifier(MultinomialNB(fit_prior=False))),\n",
    "            ])\n",
    "pipeline.fit(x_train, y_train) # fit the classifier with the training data\n",
    "predictions = pipeline.predict(x_test) # predict the labels of test dataset\n",
    "\n",
    "# pipeline evaluation:\n",
    "\n",
    "report = classification_report(y_test, predictions, output_dict=True)\n",
    "print(\"NB\")\n",
    "print(\"Accuracy: \", accuracy_score(y_test, predictions))\n",
    "print(\"Precision: \", report['micro avg']['precision'])\n",
    "print(\"Recall: \", report['micro avg']['recall'])\n",
    "print(\"F1-score: \", report['micro avg']['f1-score'])\n",
    "print(\"*******************************************************************************\")\n",
    "\n",
    "# Create a pipeline with tfidf with N-char 8 and RF classifier using OneVsRestClassifier\n",
    "pipeline = Pipeline([\n",
    "              ('tfidf', TfidfVectorizer(analyzer='char',ngram_range=(8, 8), min_df= 2, max_df= 0.5)),\n",
    "                ('clf', OneVsRestClassifier(RandomForestClassifier(n_jobs=-1))),\n",
    "            ])\n",
    "pipeline.fit(x_train, y_train) # fit the classifier with the training data\n",
    "predictions = pipeline.predict(x_test) # predict the labels of test dataset\n",
    "\n",
    "# pipeline evaluation:\n",
    "\n",
    "report = classification_report(y_test, predictions, output_dict=True)\n",
    "print(\"RF\")\n",
    "print(\"Accuracy: \", accuracy_score(y_test, predictions))\n",
    "print(\"Precision: \", report['micro avg']['precision'])\n",
    "print(\"Recall: \", report['micro avg']['recall'])\n",
    "print(\"F1-score: \", report['micro avg']['f1-score'])\n",
    "print(\"*******************************************************************************\")\n",
    "\n",
    "# Create a pipeline with tfidf with N-char 8 and LR classifier using OneVsRestClassifier\n",
    "pipeline = Pipeline([\n",
    "                ('tfidf', TfidfVectorizer(analyzer='char',ngram_range=(8, 8), min_df= 2, max_df= 0.5)),\n",
    "                ('clf', OneVsRestClassifier(LogisticRegression(solver='sag'))),\n",
    "            ])\n",
    "pipeline.fit(x_train, y_train) # fit the classifier with the training data\n",
    "predictions = pipeline.predict(x_test) # predict the labels of test dataset\n",
    "\n",
    "# pipeline evaluation:\n",
    "\n",
    "report = classification_report(y_test, predictions, output_dict=True)\n",
    "print(\"LR\")\n",
    "print(\"Accuracy: \", accuracy_score(y_test, predictions))\n",
    "print(\"Precision: \", report['micro avg']['precision'])\n",
    "print(\"Recall: \", report['micro avg']['recall'])\n",
    "print(\"F1-score: \", report['micro avg']['f1-score'])\n",
    "print(\"*******************************************************************************\")\n",
    "\n",
    "# Create a pipeline with tfidf with N-char 8 and SVC classifier using OneVsRestClassifier\n",
    "pipeline = Pipeline([\n",
    "                ('tfidf', TfidfVectorizer(analyzer='char',ngram_range=(8, 8), min_df= 2, max_df= 0.5)),\n",
    "                ('clf', OneVsRestClassifier(LinearSVC())),\n",
    "            ])\n",
    "pipeline.fit(x_train, y_train) # fit the classifier with the training data\n",
    "predictions = pipeline.predict(x_test) # predict the labels of test dataset\n",
    "\n",
    "# pipeline evaluation:\n",
    "\n",
    "report = classification_report(y_test, predictions, output_dict=True)\n",
    "print(\"SVC\")\n",
    "print(\"Accuracy: \", accuracy_score(y_test, predictions))\n",
    "print(\"Precision: \", report['micro avg']['precision'])\n",
    "print(\"Recall: \", report['micro avg']['recall'])\n",
    "print(\"F1-score: \", report['micro avg']['f1-score'])\n",
    "print(\"*******************************************************************************\")"
   ]
  },
  {
   "cell_type": "code",
   "execution_count": null,
   "metadata": {
    "colab": {
     "base_uri": "https://localhost:8080/"
    },
    "id": "uAgWQ3eDJUdE",
    "outputId": "a169d539-3add-4d44-cc0e-bd8a2810f14a"
   },
   "outputs": [
    {
     "name": "stderr",
     "output_type": "stream",
     "text": [
      "/usr/local/lib/python3.8/dist-packages/sklearn/metrics/_classification.py:1318: UndefinedMetricWarning: Precision and F-score are ill-defined and being set to 0.0 in samples with no predicted labels. Use `zero_division` parameter to control this behavior.\n",
      "  _warn_prf(average, modifier, msg_start, len(result))\n"
     ]
    },
    {
     "name": "stdout",
     "output_type": "stream",
     "text": [
      "Bagging\n",
      "Accuracy:  0.6845863082738345\n",
      "Precision:  0.8773621288083301\n",
      "Recall:  0.7263729246487867\n",
      "F1-score:  0.7947598253275109\n",
      "*******************************************************************************\n"
     ]
    },
    {
     "name": "stderr",
     "output_type": "stream",
     "text": [
      "/usr/local/lib/python3.8/dist-packages/sklearn/metrics/_classification.py:1318: UndefinedMetricWarning: Precision and F-score are ill-defined and being set to 0.0 in samples with no predicted labels. Use `zero_division` parameter to control this behavior.\n",
      "  _warn_prf(average, modifier, msg_start, len(result))\n"
     ]
    },
    {
     "name": "stdout",
     "output_type": "stream",
     "text": [
      "AdaBoost\n",
      "Accuracy:  0.6719865602687947\n",
      "Precision:  0.9204301075268817\n",
      "Recall:  0.6832694763729247\n",
      "F1-score:  0.7843137254901961\n",
      "*******************************************************************************\n"
     ]
    },
    {
     "name": "stderr",
     "output_type": "stream",
     "text": [
      "/usr/local/lib/python3.8/dist-packages/sklearn/metrics/_classification.py:1318: UndefinedMetricWarning: Precision and F-score are ill-defined and being set to 0.0 in samples with no predicted labels. Use `zero_division` parameter to control this behavior.\n",
      "  _warn_prf(average, modifier, msg_start, len(result))\n"
     ]
    },
    {
     "name": "stdout",
     "output_type": "stream",
     "text": [
      "NB\n",
      "Accuracy:  0.6619067618647627\n",
      "Precision:  0.5879669852302346\n",
      "Recall:  0.8643039591315453\n",
      "F1-score:  0.6998448810754913\n",
      "*******************************************************************************\n"
     ]
    },
    {
     "name": "stderr",
     "output_type": "stream",
     "text": [
      "/usr/local/lib/python3.8/dist-packages/sklearn/metrics/_classification.py:1318: UndefinedMetricWarning: Precision and F-score are ill-defined and being set to 0.0 in samples with no predicted labels. Use `zero_division` parameter to control this behavior.\n",
      "  _warn_prf(average, modifier, msg_start, len(result))\n"
     ]
    },
    {
     "name": "stdout",
     "output_type": "stream",
     "text": [
      "RF\n",
      "Accuracy:  0.6984460310793784\n",
      "Precision:  0.9011119936457506\n",
      "Recall:  0.7244572158365262\n",
      "F1-score:  0.8031858407079646\n",
      "*******************************************************************************\n"
     ]
    },
    {
     "name": "stderr",
     "output_type": "stream",
     "text": [
      "/usr/local/lib/python3.8/dist-packages/sklearn/metrics/_classification.py:1318: UndefinedMetricWarning: Precision and F-score are ill-defined and being set to 0.0 in samples with no predicted labels. Use `zero_division` parameter to control this behavior.\n",
      "  _warn_prf(average, modifier, msg_start, len(result))\n"
     ]
    },
    {
     "name": "stdout",
     "output_type": "stream",
     "text": [
      "LR\n",
      "Accuracy:  0.5787484250314994\n",
      "Precision:  0.9237864077669903\n",
      "Recall:  0.6075989782886334\n",
      "F1-score:  0.733050847457627\n",
      "*******************************************************************************\n",
      "SVC\n",
      "Accuracy:  0.7097858042839144\n",
      "Precision:  0.9028436018957346\n",
      "Recall:  0.7298850574712644\n",
      "F1-score:  0.8072033898305087\n",
      "*******************************************************************************\n"
     ]
    },
    {
     "name": "stderr",
     "output_type": "stream",
     "text": [
      "/usr/local/lib/python3.8/dist-packages/sklearn/metrics/_classification.py:1318: UndefinedMetricWarning: Precision and F-score are ill-defined and being set to 0.0 in samples with no predicted labels. Use `zero_division` parameter to control this behavior.\n",
      "  _warn_prf(average, modifier, msg_start, len(result))\n"
     ]
    }
   ],
   "source": [
    "# Char 9\n",
    "# Create a pipeline with tfidf with N-char 9 and Bagging classifier using OneVsRestClassifier\n",
    "pipeline = Pipeline([\n",
    "               ('tfidf', TfidfVectorizer(analyzer='char',ngram_range=(9, 9), min_df= 2, max_df= 0.5)),\n",
    "                ('clf', OneVsRestClassifier(BaggingClassifier(n_jobs=-1))),\n",
    "            ])\n",
    "pipeline.fit(x_train, y_train) # fit the classifier with the training data\n",
    "predictions = pipeline.predict(x_test) # predict the labels of test dataset\n",
    "\n",
    "# pipeline evaluation:\n",
    "\n",
    "report = classification_report(y_test, predictions, output_dict=True)\n",
    "print(\"Bagging\")\n",
    "print(\"Accuracy: \", accuracy_score(y_test, predictions))\n",
    "print(\"Precision: \", report['micro avg']['precision'])\n",
    "print(\"Recall: \", report['micro avg']['recall'])\n",
    "print(\"F1-score: \", report['micro avg']['f1-score'])\n",
    "print(\"*******************************************************************************\")\n",
    "\n",
    "# Create a pipeline with tfidf with N-char 9 and AdaBoost classifier using OneVsRestClassifier\n",
    "pipeline = Pipeline([\n",
    "                ('tfidf', TfidfVectorizer(analyzer='char',ngram_range=(9, 9), min_df= 2, max_df= 0.5)),\n",
    "                ('clf', OneVsRestClassifier(AdaBoostClassifier(random_state=1))),\n",
    "            ])\n",
    "pipeline.fit(x_train, y_train) # fit the classifier with the training data\n",
    "predictions = pipeline.predict(x_test) # predict the labels of test dataset\n",
    "\n",
    "# pipeline evaluation:\n",
    "\n",
    "report = classification_report(y_test, predictions, output_dict=True)\n",
    "print(\"AdaBoost\")\n",
    "print(\"Accuracy: \", accuracy_score(y_test, predictions))\n",
    "print(\"Precision: \", report['micro avg']['precision'])\n",
    "print(\"Recall: \", report['micro avg']['recall'])\n",
    "print(\"F1-score: \", report['micro avg']['f1-score'])\n",
    "print(\"*******************************************************************************\")\n",
    "\n",
    "# Create a pipeline with tfidf with N-char 9 and NB classifier using OneVsRestClassifier\n",
    "pipeline = Pipeline([\n",
    "               ('tfidf', TfidfVectorizer(analyzer='char',ngram_range=(9, 9), min_df= 2, max_df= 0.5)),\n",
    "                ('clf', OneVsRestClassifier(MultinomialNB(fit_prior=False))),\n",
    "            ])\n",
    "pipeline.fit(x_train, y_train) # fit the classifier with the training data\n",
    "predictions = pipeline.predict(x_test) # predict the labels of test dataset\n",
    "\n",
    "# pipeline evaluation:\n",
    "\n",
    "report = classification_report(y_test, predictions, output_dict=True)\n",
    "print(\"NB\")\n",
    "print(\"Accuracy: \", accuracy_score(y_test, predictions))\n",
    "print(\"Precision: \", report['micro avg']['precision'])\n",
    "print(\"Recall: \", report['micro avg']['recall'])\n",
    "print(\"F1-score: \", report['micro avg']['f1-score'])\n",
    "print(\"*******************************************************************************\")\n",
    "\n",
    "# Create a pipeline with tfidf with N-char 9 and RF classifier using OneVsRestClassifier\n",
    "pipeline = Pipeline([\n",
    "              ('tfidf', TfidfVectorizer(analyzer='char',ngram_range=(9, 9), min_df= 2, max_df= 0.5)),\n",
    "                ('clf', OneVsRestClassifier(RandomForestClassifier(n_jobs=-1))),\n",
    "            ])\n",
    "pipeline.fit(x_train, y_train) # fit the classifier with the training data\n",
    "predictions = pipeline.predict(x_test) # predict the labels of test dataset\n",
    "\n",
    "# pipeline evaluation:\n",
    "\n",
    "report = classification_report(y_test, predictions, output_dict=True)\n",
    "print(\"RF\")\n",
    "print(\"Accuracy: \", accuracy_score(y_test, predictions))\n",
    "print(\"Precision: \", report['micro avg']['precision'])\n",
    "print(\"Recall: \", report['micro avg']['recall'])\n",
    "print(\"F1-score: \", report['micro avg']['f1-score'])\n",
    "print(\"*******************************************************************************\")\n",
    "\n",
    "# Create a pipeline with tfidf with N-char 9 and LR classifier using OneVsRestClassifier\n",
    "pipeline = Pipeline([\n",
    "                ('tfidf', TfidfVectorizer(analyzer='char',ngram_range=(9, 9), min_df= 2, max_df= 0.5)),\n",
    "                ('clf', OneVsRestClassifier(LogisticRegression(solver='sag'))),\n",
    "            ])\n",
    "pipeline.fit(x_train, y_train) # fit the classifier with the training data\n",
    "predictions = pipeline.predict(x_test) # predict the labels of test dataset\n",
    "\n",
    "# pipeline evaluation:\n",
    "\n",
    "report = classification_report(y_test, predictions, output_dict=True)\n",
    "print(\"LR\")\n",
    "print(\"Accuracy: \", accuracy_score(y_test, predictions))\n",
    "print(\"Precision: \", report['micro avg']['precision'])\n",
    "print(\"Recall: \", report['micro avg']['recall'])\n",
    "print(\"F1-score: \", report['micro avg']['f1-score'])\n",
    "print(\"*******************************************************************************\")\n",
    "\n",
    "# Create a pipeline with tfidf with N-char 9 and SVC classifier using OneVsRestClassifier\n",
    "pipeline = Pipeline([\n",
    "                ('tfidf', TfidfVectorizer(analyzer='char',ngram_range=(9, 9), min_df= 2, max_df= 0.5)),\n",
    "                ('clf', OneVsRestClassifier(LinearSVC())),\n",
    "            ])\n",
    "pipeline.fit(x_train, y_train) # fit the classifier with the training data\n",
    "predictions = pipeline.predict(x_test) # predict the labels of test dataset\n",
    "\n",
    "# pipeline evaluation:\n",
    "\n",
    "report = classification_report(y_test, predictions, output_dict=True)\n",
    "print(\"SVC\")\n",
    "print(\"Accuracy: \", accuracy_score(y_test, predictions))\n",
    "print(\"Precision: \", report['micro avg']['precision'])\n",
    "print(\"Recall: \", report['micro avg']['recall'])\n",
    "print(\"F1-score: \", report['micro avg']['f1-score'])\n",
    "print(\"*******************************************************************************\")"
   ]
  },
  {
   "cell_type": "code",
   "execution_count": null,
   "metadata": {
    "colab": {
     "base_uri": "https://localhost:8080/"
    },
    "id": "TL2fpbUkJkX8",
    "outputId": "db9f9aa0-b0ce-4262-ea6b-2f7564f8c893"
   },
   "outputs": [
    {
     "name": "stderr",
     "output_type": "stream",
     "text": [
      "/usr/local/lib/python3.8/dist-packages/sklearn/metrics/_classification.py:1318: UndefinedMetricWarning: Precision and F-score are ill-defined and being set to 0.0 in samples with no predicted labels. Use `zero_division` parameter to control this behavior.\n",
      "  _warn_prf(average, modifier, msg_start, len(result))\n"
     ]
    },
    {
     "name": "stdout",
     "output_type": "stream",
     "text": [
      "Bagging\n",
      "Accuracy:  0.6484670306593868\n",
      "Precision:  0.8847262247838616\n",
      "Recall:  0.6861430395913155\n",
      "F1-score:  0.7728825750764251\n",
      "*******************************************************************************\n"
     ]
    },
    {
     "name": "stderr",
     "output_type": "stream",
     "text": [
      "/usr/local/lib/python3.8/dist-packages/sklearn/metrics/_classification.py:1318: UndefinedMetricWarning: Precision and F-score are ill-defined and being set to 0.0 in samples with no predicted labels. Use `zero_division` parameter to control this behavior.\n",
      "  _warn_prf(average, modifier, msg_start, len(result))\n"
     ]
    },
    {
     "name": "stdout",
     "output_type": "stream",
     "text": [
      "AdaBoost\n",
      "Accuracy:  0.5816883662326754\n",
      "Precision:  0.8968325791855204\n",
      "Recall:  0.6328224776500638\n",
      "F1-score:  0.742044178210408\n",
      "*******************************************************************************\n"
     ]
    },
    {
     "name": "stderr",
     "output_type": "stream",
     "text": [
      "/usr/local/lib/python3.8/dist-packages/sklearn/metrics/_classification.py:1318: UndefinedMetricWarning: Precision and F-score are ill-defined and being set to 0.0 in samples with no predicted labels. Use `zero_division` parameter to control this behavior.\n",
      "  _warn_prf(average, modifier, msg_start, len(result))\n"
     ]
    },
    {
     "name": "stdout",
     "output_type": "stream",
     "text": [
      "NB\n",
      "Accuracy:  0.6119277614447711\n",
      "Precision:  0.5160142348754448\n",
      "Recall:  0.8333333333333334\n",
      "F1-score:  0.6373626373626374\n",
      "*******************************************************************************\n"
     ]
    },
    {
     "name": "stderr",
     "output_type": "stream",
     "text": [
      "/usr/local/lib/python3.8/dist-packages/sklearn/metrics/_classification.py:1318: UndefinedMetricWarning: Precision and F-score are ill-defined and being set to 0.0 in samples with no predicted labels. Use `zero_division` parameter to control this behavior.\n",
      "  _warn_prf(average, modifier, msg_start, len(result))\n"
     ]
    },
    {
     "name": "stdout",
     "output_type": "stream",
     "text": [
      "RF\n",
      "Accuracy:  0.6661066778664426\n",
      "Precision:  0.9012965286491008\n",
      "Recall:  0.688058748403576\n",
      "F1-score:  0.7803729856961797\n",
      "*******************************************************************************\n"
     ]
    },
    {
     "name": "stderr",
     "output_type": "stream",
     "text": [
      "/usr/local/lib/python3.8/dist-packages/sklearn/metrics/_classification.py:1318: UndefinedMetricWarning: Precision and F-score are ill-defined and being set to 0.0 in samples with no predicted labels. Use `zero_division` parameter to control this behavior.\n",
      "  _warn_prf(average, modifier, msg_start, len(result))\n"
     ]
    },
    {
     "name": "stdout",
     "output_type": "stream",
     "text": [
      "LR\n",
      "Accuracy:  0.5207895842083158\n",
      "Precision:  0.9216931216931217\n",
      "Recall:  0.5561941251596424\n",
      "F1-score:  0.6937475109518121\n",
      "*******************************************************************************\n",
      "SVC\n",
      "Accuracy:  0.6778664426711466\n",
      "Precision:  0.894672131147541\n",
      "Recall:  0.6969987228607918\n",
      "F1-score:  0.7835606604450825\n",
      "*******************************************************************************\n"
     ]
    },
    {
     "name": "stderr",
     "output_type": "stream",
     "text": [
      "/usr/local/lib/python3.8/dist-packages/sklearn/metrics/_classification.py:1318: UndefinedMetricWarning: Precision and F-score are ill-defined and being set to 0.0 in samples with no predicted labels. Use `zero_division` parameter to control this behavior.\n",
      "  _warn_prf(average, modifier, msg_start, len(result))\n"
     ]
    }
   ],
   "source": [
    "# Char 10\n",
    "# Create a pipeline with tfidf with N-char 10 and Bagging classifier using OneVsRestClassifier\n",
    "pipeline = Pipeline([\n",
    "               ('tfidf', TfidfVectorizer(analyzer='char',ngram_range=(10, 10), min_df= 2, max_df= 0.5)),\n",
    "                ('clf', OneVsRestClassifier(BaggingClassifier(n_jobs=-1))),\n",
    "            ])\n",
    "pipeline.fit(x_train, y_train) # fit the classifier with the training data\n",
    "predictions = pipeline.predict(x_test) # predict the labels of test dataset\n",
    "\n",
    "# pipeline evaluation:\n",
    "\n",
    "report = classification_report(y_test, predictions, output_dict=True)\n",
    "print(\"Bagging\")\n",
    "print(\"Accuracy: \", accuracy_score(y_test, predictions))\n",
    "print(\"Precision: \", report['micro avg']['precision'])\n",
    "print(\"Recall: \", report['micro avg']['recall'])\n",
    "print(\"F1-score: \", report['micro avg']['f1-score'])\n",
    "print(\"*******************************************************************************\")\n",
    "\n",
    "# Create a pipeline with tfidf with N-char 10 and AdaBoost classifier using OneVsRestClassifier\n",
    "pipeline = Pipeline([\n",
    "                ('tfidf', TfidfVectorizer(analyzer='char',ngram_range=(10, 10), min_df= 2, max_df= 0.5)),\n",
    "                ('clf', OneVsRestClassifier(AdaBoostClassifier(random_state=1))),\n",
    "            ])\n",
    "pipeline.fit(x_train, y_train) # fit the classifier with the training data\n",
    "predictions = pipeline.predict(x_test) # predict the labels of test dataset\n",
    "\n",
    "# pipeline evaluation:\n",
    "\n",
    "report = classification_report(y_test, predictions, output_dict=True)\n",
    "print(\"AdaBoost\")\n",
    "print(\"Accuracy: \", accuracy_score(y_test, predictions))\n",
    "print(\"Precision: \", report['micro avg']['precision'])\n",
    "print(\"Recall: \", report['micro avg']['recall'])\n",
    "print(\"F1-score: \", report['micro avg']['f1-score'])\n",
    "print(\"*******************************************************************************\")\n",
    "\n",
    "# Create a pipeline with tfidf with N-char 10 and NB classifier using OneVsRestClassifier\n",
    "pipeline = Pipeline([\n",
    "               ('tfidf', TfidfVectorizer(analyzer='char',ngram_range=(10, 10), min_df= 2, max_df= 0.5)),\n",
    "                ('clf', OneVsRestClassifier(MultinomialNB(fit_prior=False))),\n",
    "            ])\n",
    "pipeline.fit(x_train, y_train) # fit the classifier with the training data\n",
    "predictions = pipeline.predict(x_test) # predict the labels of test dataset\n",
    "\n",
    "# pipeline evaluation:\n",
    "\n",
    "report = classification_report(y_test, predictions, output_dict=True)\n",
    "print(\"NB\")\n",
    "print(\"Accuracy: \", accuracy_score(y_test, predictions))\n",
    "print(\"Precision: \", report['micro avg']['precision'])\n",
    "print(\"Recall: \", report['micro avg']['recall'])\n",
    "print(\"F1-score: \", report['micro avg']['f1-score'])\n",
    "print(\"*******************************************************************************\")\n",
    "\n",
    "# Create a pipeline with tfidf with N-char 10 and RF classifier using OneVsRestClassifier\n",
    "pipeline = Pipeline([\n",
    "              ('tfidf', TfidfVectorizer(analyzer='char',ngram_range=(10, 10), min_df= 2, max_df= 0.5)),\n",
    "                ('clf', OneVsRestClassifier(RandomForestClassifier(n_jobs=-1))),\n",
    "            ])\n",
    "pipeline.fit(x_train, y_train) # fit the classifier with the training data\n",
    "predictions = pipeline.predict(x_test) # predict the labels of test dataset\n",
    "\n",
    "# pipeline evaluation:\n",
    "\n",
    "report = classification_report(y_test, predictions, output_dict=True)\n",
    "print(\"RF\")\n",
    "print(\"Accuracy: \", accuracy_score(y_test, predictions))\n",
    "print(\"Precision: \", report['micro avg']['precision'])\n",
    "print(\"Recall: \", report['micro avg']['recall'])\n",
    "print(\"F1-score: \", report['micro avg']['f1-score'])\n",
    "print(\"*******************************************************************************\")\n",
    "\n",
    "# Create a pipeline with tfidf with N-char 10 and LR classifier using OneVsRestClassifier\n",
    "pipeline = Pipeline([\n",
    "                ('tfidf', TfidfVectorizer(analyzer='char',ngram_range=(10, 10), min_df= 2, max_df= 0.5)),\n",
    "                ('clf', OneVsRestClassifier(LogisticRegression(solver='sag'))),\n",
    "            ])\n",
    "pipeline.fit(x_train, y_train) # fit the classifier with the training data\n",
    "predictions = pipeline.predict(x_test) # predict the labels of test dataset\n",
    "\n",
    "# pipeline evaluation:\n",
    "\n",
    "report = classification_report(y_test, predictions, output_dict=True)\n",
    "print(\"LR\")\n",
    "print(\"Accuracy: \", accuracy_score(y_test, predictions))\n",
    "print(\"Precision: \", report['micro avg']['precision'])\n",
    "print(\"Recall: \", report['micro avg']['recall'])\n",
    "print(\"F1-score: \", report['micro avg']['f1-score'])\n",
    "print(\"*******************************************************************************\")\n",
    "\n",
    "# Create a pipeline with tfidf with N-char 10 and SVC classifier using OneVsRestClassifier\n",
    "pipeline = Pipeline([\n",
    "                ('tfidf', TfidfVectorizer(analyzer='char',ngram_range=(10, 10), min_df= 2, max_df= 0.5)),\n",
    "                ('clf', OneVsRestClassifier(LinearSVC())),\n",
    "            ])\n",
    "pipeline.fit(x_train, y_train) # fit the classifier with the training data\n",
    "predictions = pipeline.predict(x_test) # predict the labels of test dataset\n",
    "\n",
    "# pipeline evaluation:\n",
    "\n",
    "report = classification_report(y_test, predictions, output_dict=True)\n",
    "print(\"SVC\")\n",
    "print(\"Accuracy: \", accuracy_score(y_test, predictions))\n",
    "print(\"Precision: \", report['micro avg']['precision'])\n",
    "print(\"Recall: \", report['micro avg']['recall'])\n",
    "print(\"F1-score: \", report['micro avg']['f1-score'])\n",
    "print(\"*******************************************************************************\")"
   ]
  }
 ],
 "metadata": {
  "accelerator": "TPU",
  "colab": {
   "machine_shape": "hm",
   "provenance": []
  },
  "gpuClass": "standard",
  "kernelspec": {
   "display_name": "Python 3 (ipykernel)",
   "language": "python",
   "name": "python3"
  },
  "language_info": {
   "codemirror_mode": {
    "name": "ipython",
    "version": 3
   },
   "file_extension": ".py",
   "mimetype": "text/x-python",
   "name": "python",
   "nbconvert_exporter": "python",
   "pygments_lexer": "ipython3",
   "version": "3.9.12"
  }
 },
 "nbformat": 4,
 "nbformat_minor": 1
}
